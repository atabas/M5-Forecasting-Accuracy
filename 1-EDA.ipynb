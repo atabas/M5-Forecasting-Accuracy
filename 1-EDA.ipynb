{
 "cells": [
  {
   "cell_type": "code",
   "execution_count": 1,
   "metadata": {},
   "outputs": [],
   "source": [
    "import numpy as np\n",
    "import pandas as pd\n",
    "import matplotlib.pyplot as plt\n",
    "import seaborn as sns"
   ]
  },
  {
   "cell_type": "markdown",
   "metadata": {},
   "source": [
    "## Problem\n",
    "Forecast daily sales of a product at various stores in various provinces for the next 28 days\n",
    "\n",
    "## Dataset\n",
    "### sales_train_validation.csv: historical daily unit sales data per product and store\n",
    "- id\n",
    "- item_id : ID of product\n",
    "- dept_id\n",
    "- cat_id\n",
    "- store_id\n",
    "- state_id\n",
    "- d_1 to d_1913: unit sales of days 1 through 1913 ( starting from 2011-01-29)\n",
    "\n",
    "### sell_prices.csv: price of the products sold per store and date\n",
    "- store_id     \n",
    "- item_id       \n",
    "- wm_yr_wk: the id of the week     \n",
    "- sell_price: The price of the product for the given week/store. The price is provided per week (average across seven days). If not available, this means that the product was not sold during the examined week.\n",
    "\n",
    "### calendar.csv: dates the products are sold\n",
    "- date: The date (“y-m-d”).\n",
    "- wm_yr_wk: The id of the week\n",
    "- weekday: The type of the day (Saturday, Sunday, …, Friday).\n",
    "- wday: The id of the weekday, starting from Saturday.\n",
    "- month\n",
    "- year\n",
    "- event_name_1: If the date includes an event, the name of this event.\n",
    "- event_type_1\n",
    "- event_name_2: If the date includes a second event, the name of this event.\n",
    "- event_type_2\n",
    "- snap_CA, snap_TX, and snap_WI: A binary variable (0 or 1) indicating whether the stores of CA, TX or WI allow SNAP1 purchases on the examined date. 1 indicates that SNAP purchases are allowed."
   ]
  },
  {
   "cell_type": "markdown",
   "metadata": {},
   "source": [
    "# EDA"
   ]
  },
  {
   "cell_type": "code",
   "execution_count": 5,
   "metadata": {},
   "outputs": [],
   "source": [
    "def data_stats(data):\n",
    "    print('Info: ')\n",
    "    print(data.info())\n",
    "    print('\\nFirst few rows of the data:')\n",
    "    print(data.head())\n",
    "    print('\\nShape of the data:')\n",
    "    print(data.shape)"
   ]
  },
  {
   "cell_type": "code",
   "execution_count": 24,
   "metadata": {},
   "outputs": [],
   "source": [
    "sales_train_validation_data = pd.read_csv('data/sales_train_validation.csv')\n",
    "calendar_data = pd.read_csv('data/calendar.csv')\n",
    "prices_data = pd.read_csv('data/sell_prices.csv')"
   ]
  },
  {
   "cell_type": "markdown",
   "metadata": {},
   "source": [
    "## sales_train_validation.csv"
   ]
  },
  {
   "cell_type": "code",
   "execution_count": 25,
   "metadata": {},
   "outputs": [
    {
     "name": "stdout",
     "output_type": "stream",
     "text": [
      "Info: \n",
      "<class 'pandas.core.frame.DataFrame'>\n",
      "RangeIndex: 30490 entries, 0 to 30489\n",
      "Columns: 1919 entries, id to d_1913\n",
      "dtypes: int64(1913), object(6)\n",
      "memory usage: 446.4+ MB\n",
      "None\n",
      "\n",
      "First few rows of the data:\n",
      "                              id        item_id    dept_id   cat_id store_id  \\\n",
      "0  HOBBIES_1_001_CA_1_validation  HOBBIES_1_001  HOBBIES_1  HOBBIES     CA_1   \n",
      "1  HOBBIES_1_002_CA_1_validation  HOBBIES_1_002  HOBBIES_1  HOBBIES     CA_1   \n",
      "2  HOBBIES_1_003_CA_1_validation  HOBBIES_1_003  HOBBIES_1  HOBBIES     CA_1   \n",
      "3  HOBBIES_1_004_CA_1_validation  HOBBIES_1_004  HOBBIES_1  HOBBIES     CA_1   \n",
      "4  HOBBIES_1_005_CA_1_validation  HOBBIES_1_005  HOBBIES_1  HOBBIES     CA_1   \n",
      "\n",
      "  state_id  d_1  d_2  d_3  d_4  ...  d_1904  d_1905  d_1906  d_1907  d_1908  \\\n",
      "0       CA    0    0    0    0  ...       1       3       0       1       1   \n",
      "1       CA    0    0    0    0  ...       0       0       0       0       0   \n",
      "2       CA    0    0    0    0  ...       2       1       2       1       1   \n",
      "3       CA    0    0    0    0  ...       1       0       5       4       1   \n",
      "4       CA    0    0    0    0  ...       2       1       1       0       1   \n",
      "\n",
      "   d_1909  d_1910  d_1911  d_1912  d_1913  \n",
      "0       1       3       0       1       1  \n",
      "1       1       0       0       0       0  \n",
      "2       1       0       1       1       1  \n",
      "3       0       1       3       7       2  \n",
      "4       1       2       2       2       4  \n",
      "\n",
      "[5 rows x 1919 columns]\n",
      "\n",
      "Shape of the data:\n",
      "(30490, 1919)\n"
     ]
    }
   ],
   "source": [
    "data_stats(sales_train_validation_data)"
   ]
  },
  {
   "cell_type": "code",
   "execution_count": 89,
   "metadata": {},
   "outputs": [
    {
     "name": "stdout",
     "output_type": "stream",
     "text": [
      "Dept ID types for products:\n",
      "\n",
      "FOODS_3        8230\n",
      "HOUSEHOLD_1    5320\n",
      "HOUSEHOLD_2    5150\n",
      "HOBBIES_1      4160\n",
      "FOODS_2        3980\n",
      "FOODS_1        2160\n",
      "HOBBIES_2      1490\n",
      "Name: dept_id, dtype: int64\n",
      "\n",
      "Category ID types for products:\n",
      "\n",
      "FOODS        14370\n",
      "HOUSEHOLD    10470\n",
      "HOBBIES       5650\n",
      "Name: cat_id, dtype: int64\n",
      "\n",
      "Store ID types for products:\n",
      "\n",
      "CA_2    3049\n",
      "WI_2    3049\n",
      "CA_1    3049\n",
      "CA_4    3049\n",
      "TX_1    3049\n",
      "CA_3    3049\n",
      "WI_1    3049\n",
      "WI_3    3049\n",
      "TX_3    3049\n",
      "TX_2    3049\n",
      "Name: store_id, dtype: int64\n"
     ]
    }
   ],
   "source": [
    "print('Dept ID types for products:\\n')\n",
    "print(sales_train_validation_data.dept_id.value_counts())\n",
    "\n",
    "print('\\nCategory ID types for products:\\n')\n",
    "print(sales_train_validation_data.cat_id.value_counts())\n",
    "\n",
    "print('\\nStore ID types for products:\\n')\n",
    "print(sales_train_validation_data.store_id.value_counts())"
   ]
  },
  {
   "cell_type": "code",
   "execution_count": 26,
   "metadata": {},
   "outputs": [
    {
     "name": "stdout",
     "output_type": "stream",
     "text": [
      "<class 'pandas.core.series.Series'>\n"
     ]
    },
    {
     "data": {
      "text/plain": [
       "0        1492\n",
       "1        1511\n",
       "2        1697\n",
       "3         617\n",
       "4         950\n",
       "5        1261\n",
       "6        1559\n",
       "7         535\n",
       "8        1033\n",
       "9         996\n",
       "10       1784\n",
       "11       1315\n",
       "12       1523\n",
       "13        852\n",
       "14        373\n",
       "15        393\n",
       "16        963\n",
       "17       1834\n",
       "18        995\n",
       "19       1422\n",
       "20       1155\n",
       "21       1396\n",
       "22        896\n",
       "23       1573\n",
       "24       1360\n",
       "25       1894\n",
       "26       1650\n",
       "27       1068\n",
       "28        631\n",
       "29        930\n",
       "         ... \n",
       "30460    1763\n",
       "30461    1602\n",
       "30462     773\n",
       "30463     757\n",
       "30464    1300\n",
       "30465    1489\n",
       "30466     119\n",
       "30467     602\n",
       "30468    1750\n",
       "30469     364\n",
       "30470     412\n",
       "30471     834\n",
       "30472    1427\n",
       "30473     626\n",
       "30474     742\n",
       "30475    1782\n",
       "30476     517\n",
       "30477    1678\n",
       "30478     832\n",
       "30479    1223\n",
       "30480     881\n",
       "30481     649\n",
       "30482     532\n",
       "30483    1267\n",
       "30484     485\n",
       "30485    1390\n",
       "30486    1433\n",
       "30487    1030\n",
       "30488    1557\n",
       "30489    1416\n",
       "Length: 30490, dtype: int64"
      ]
     },
     "execution_count": 26,
     "metadata": {},
     "output_type": "execute_result"
    }
   ],
   "source": [
    "zero_counts = (sales_train_validation_data.iloc[:, 6:] == 0).sum(axis=1)\n",
    "print(type(zero_counts))\n",
    "zero_counts"
   ]
  },
  {
   "cell_type": "code",
   "execution_count": 23,
   "metadata": {},
   "outputs": [
    {
     "data": {
      "text/plain": [
       "(23916,)"
      ]
     },
     "execution_count": 23,
     "metadata": {},
     "output_type": "execute_result"
    }
   ],
   "source": [
    "(zero_counts[zero_counts > np.round(1913/2)]).shape"
   ]
  },
  {
   "cell_type": "markdown",
   "metadata": {},
   "source": [
    "Out of 30490 rows, 23916 (i.e. 78% of) rows have more than 50% 0 values for unit sales"
   ]
  },
  {
   "cell_type": "code",
   "execution_count": 34,
   "metadata": {},
   "outputs": [
    {
     "data": {
      "text/plain": [
       "0"
      ]
     },
     "execution_count": 34,
     "metadata": {},
     "output_type": "execute_result"
    }
   ],
   "source": [
    "null_counts = (sales_train_validation_data.iloc[:, 6:].isnull()).sum(axis=1)\n",
    "null_counts.sum()"
   ]
  },
  {
   "cell_type": "markdown",
   "metadata": {},
   "source": [
    "We find that there are no null values for columns d_1 to d_1913"
   ]
  },
  {
   "cell_type": "code",
   "execution_count": 67,
   "metadata": {},
   "outputs": [],
   "source": [
    "unique_elements, counts_elements = np.unique(sales_train_validation_data.iloc[:, 6:].values, return_counts=True)\n",
    "# figure = plt.figure(figsize=(16, 12))\n",
    "# plt.plot(unique_elements, counts_elements)"
   ]
  },
  {
   "cell_type": "code",
   "execution_count": 66,
   "metadata": {},
   "outputs": [
    {
     "name": "stdout",
     "output_type": "stream",
     "text": [
      "Units sold vs number of times (across all products)\n",
      "[(0, 39777094), (1, 7753194), (2, 3894493), (3, 2098127), (4, 1279524), (5, 812653), (6, 565775), (7, 393514), (8, 300120), (9, 222644), (10, 178683), (11, 140168), (12, 121888), (13, 94337), (14, 79377), (15, 66900), (16, 57084), (17, 47969), (18, 41851), (19, 36027), (20, 32359), (21, 27965), (22, 24860), (23, 21980), (24, 21865), (25, 18099), (26, 16176), (27, 14571), (28, 13200), (29, 11763), (30, 10844), (31, 9930), (32, 9035), (33, 8234), (34, 7603), (35, 7110), (36, 6723), (37, 6033), (38, 5557), (39, 4955), (40, 4893), (41, 4393), (42, 4246), (43, 3827), (44, 3601), (45, 3311), (46, 3158), (47, 2857), (48, 3038), (49, 2691), (50, 2467), (51, 2282), (52, 2277), (53, 1993), (54, 1931), (55, 1903), (56, 1786), (57, 1684), (58, 1593), (59, 1418), (60, 1436), (61, 1301), (62, 1169), (63, 1081), (64, 1079), (65, 1039), (66, 1000), (67, 978), (68, 852), (69, 872), (70, 803), (71, 746), (72, 758), (73, 716), (74, 650), (75, 612), (76, 605), (77, 637), (78, 562), (79, 535), (80, 540), (81, 491), (82, 491), (83, 406), (84, 398), (85, 410), (86, 413), (87, 348), (88, 364), (89, 323), (90, 316), (91, 318), (92, 319), (93, 306), (94, 279), (95, 269), (96, 285), (97, 252), (98, 245), (99, 207), (100, 270), (101, 223), (102, 218), (103, 209), (104, 189), (105, 202), (106, 194), (107, 152), (108, 184), (109, 200), (110, 161), (111, 147), (112, 150), (113, 136), (114, 140), (115, 106), (116, 122), (117, 119), (118, 139), (119, 102), (120, 101), (121, 101), (122, 105), (123, 92), (124, 77), (125, 92), (126, 84), (127, 86), (128, 97), (129, 74), (130, 87), (131, 64), (132, 67), (133, 65), (134, 65), (135, 68), (136, 57), (137, 65), (138, 64), (139, 46), (140, 63), (141, 58), (142, 47), (143, 46), (144, 52), (145, 50), (146, 47), (147, 62), (148, 37), (149, 40), (150, 50), (151, 35), (152, 42), (153, 31), (154, 32), (155, 38), (156, 33), (157, 40), (158, 23), (159, 40), (160, 36), (161, 25), (162, 26), (163, 25), (164, 31), (165, 30), (166, 27), (167, 20), (168, 26), (169, 31), (170, 22), (171, 23), (172, 18), (173, 27), (174, 31), (175, 13), (176, 20), (177, 16), (178, 14), (179, 24), (180, 22), (181, 17), (182, 19), (183, 16), (184, 20), (185, 9), (186, 16), (187, 23), (188, 12), (189, 16), (190, 12), (191, 7), (192, 19), (193, 13), (194, 11), (195, 10), (196, 14), (197, 11), (198, 14), (199, 14), (200, 20), (201, 9), (202, 8), (203, 14), (204, 11), (205, 11), (206, 12), (207, 10), (208, 10), (209, 5), (210, 12), (211, 10), (212, 15), (213, 7), (214, 9), (215, 12), (216, 8), (217, 8), (218, 5), (219, 7), (220, 9), (221, 5), (222, 8), (223, 1), (224, 9), (225, 8), (226, 6), (227, 5), (228, 8), (229, 8), (230, 4), (231, 1), (232, 4), (233, 4), (234, 6), (235, 5), (236, 5), (237, 8), (238, 6), (239, 5), (240, 6), (241, 5), (242, 4), (243, 8), (244, 4), (245, 6), (246, 14), (247, 4), (248, 7), (249, 7), (250, 6), (251, 1), (252, 6), (253, 6), (254, 6), (255, 3), (256, 6), (257, 6), (258, 6), (259, 7), (260, 6), (261, 5), (262, 4), (263, 4), (264, 5), (265, 4), (266, 6), (267, 2), (268, 5), (269, 3), (270, 3), (271, 3), (272, 6), (273, 4), (274, 1), (275, 5), (276, 4), (277, 2), (278, 5), (279, 3), (280, 3), (281, 4), (282, 6), (283, 5), (285, 1), (286, 3), (287, 2), (288, 2), (289, 5), (290, 3), (291, 2), (292, 2), (293, 2), (294, 3), (295, 2), (296, 3), (297, 3), (298, 3), (299, 3), (300, 8), (301, 2), (302, 1), (303, 5), (304, 2), (305, 2), (306, 3), (307, 1), (308, 1), (309, 1), (310, 3), (312, 2), (313, 2), (314, 2), (315, 3), (316, 4), (317, 1), (319, 1), (320, 4), (321, 2), (322, 2), (323, 4), (324, 2), (325, 1), (326, 1), (328, 5), (329, 2), (331, 3), (333, 2), (335, 1), (336, 3), (337, 3), (338, 3), (340, 2), (341, 1), (342, 2), (343, 1), (345, 2), (346, 2), (347, 2), (349, 2), (350, 1), (351, 2), (352, 1), (353, 1), (354, 1), (355, 1), (357, 3), (358, 1), (359, 2), (360, 1), (361, 1), (362, 2), (363, 1), (366, 1), (367, 1), (369, 1), (370, 1), (371, 1), (372, 1), (374, 2), (376, 1), (377, 3), (379, 1), (380, 1), (381, 1), (382, 1), (383, 1), (384, 1), (385, 2), (386, 1), (391, 1), (396, 1), (399, 2), (402, 1), (411, 1), (412, 1), (413, 1), (420, 1), (422, 1), (427, 1), (432, 1), (436, 1), (439, 1), (446, 1), (449, 1), (460, 1), (461, 1), (469, 1), (470, 1), (474, 1), (478, 1), (480, 1), (485, 1), (489, 1), (491, 1), (495, 1), (498, 2), (504, 1), (532, 1), (544, 1), (546, 1), (554, 1), (561, 1), (567, 1), (585, 1), (599, 1), (601, 1), (606, 1), (607, 1), (613, 1), (619, 1), (620, 1), (626, 1), (633, 1), (634, 1), (648, 1), (693, 1), (709, 2), (763, 1)]\n"
     ]
    }
   ],
   "source": [
    "print('Units sold vs number of times (across all products)')\n",
    "print(list(zip(unique_elements, counts_elements)))"
   ]
  },
  {
   "cell_type": "markdown",
   "metadata": {},
   "source": [
    "We find that 0 units were sold for a lot of products, next 1 unit was sold for a lot of products etc.\n",
    "\n",
    "We also find that eg 693 units were sold once, 709 units were sold twice, 763 units were sold once, etc; we can investigate what those products/categories were to see what those products were for which there were so many units, if they were seasonal products, etc.\n",
    "\n",
    "### Note: TODO Later"
   ]
  },
  {
   "cell_type": "code",
   "execution_count": 68,
   "metadata": {},
   "outputs": [
    {
     "data": {
      "text/plain": [
       "0"
      ]
     },
     "execution_count": 68,
     "metadata": {},
     "output_type": "execute_result"
    }
   ],
   "source": [
    "null_counts_categorical_cols = (sales_train_validation_data.iloc[:, :5].isnull()).sum(axis=1)\n",
    "null_counts_categorical_cols.sum()"
   ]
  },
  {
   "cell_type": "markdown",
   "metadata": {},
   "source": [
    "We find that id, item_id, dept_id, store_id, state_id, cat_id columns don't contain any null values, which is good"
   ]
  },
  {
   "cell_type": "code",
   "execution_count": 99,
   "metadata": {},
   "outputs": [
    {
     "name": "stdout",
     "output_type": "stream",
     "text": [
      "Mean units sold per product per store: [0.31364349 0.2577104  0.15054888 ... 0.89492943 0.36696289 0.69472033]\n",
      "Median units sold per product per store: [0. 0. 0. ... 0. 0. 0.]\n"
     ]
    }
   ],
   "source": [
    "# with np.printoptions(threshold=np.inf):    \n",
    "#     data = sales_train_validation_data.iloc[:, 6:].values.mean(axis=1)\n",
    "#     print(data)\n",
    "mean_units_solid = np.mean(sales_train_validation_data.iloc[:, 6:].values, axis=1)\n",
    "print('Mean units sold per product per store: {}'.format(mean_units_solid))\n",
    "\n",
    "median_units_solid = np.median(sales_train_validation_data.iloc[:, 6:].values, axis=1)\n",
    "print('Median units sold per product per store: {}'.format(median_units_solid))"
   ]
  },
  {
   "cell_type": "markdown",
   "metadata": {},
   "source": [
    "## calendar.csv"
   ]
  },
  {
   "cell_type": "code",
   "execution_count": 27,
   "metadata": {},
   "outputs": [
    {
     "name": "stdout",
     "output_type": "stream",
     "text": [
      "Info: \n",
      "<class 'pandas.core.frame.DataFrame'>\n",
      "RangeIndex: 1969 entries, 0 to 1968\n",
      "Data columns (total 14 columns):\n",
      "date            1969 non-null object\n",
      "wm_yr_wk        1969 non-null int64\n",
      "weekday         1969 non-null object\n",
      "wday            1969 non-null int64\n",
      "month           1969 non-null int64\n",
      "year            1969 non-null int64\n",
      "d               1969 non-null object\n",
      "event_name_1    162 non-null object\n",
      "event_type_1    162 non-null object\n",
      "event_name_2    5 non-null object\n",
      "event_type_2    5 non-null object\n",
      "snap_CA         1969 non-null int64\n",
      "snap_TX         1969 non-null int64\n",
      "snap_WI         1969 non-null int64\n",
      "dtypes: int64(7), object(7)\n",
      "memory usage: 215.4+ KB\n",
      "None\n",
      "\n",
      "First few rows of the data:\n",
      "         date  wm_yr_wk    weekday  wday  month  year    d event_name_1  \\\n",
      "0  2011-01-29     11101   Saturday     1      1  2011  d_1          NaN   \n",
      "1  2011-01-30     11101     Sunday     2      1  2011  d_2          NaN   \n",
      "2  2011-01-31     11101     Monday     3      1  2011  d_3          NaN   \n",
      "3  2011-02-01     11101    Tuesday     4      2  2011  d_4          NaN   \n",
      "4  2011-02-02     11101  Wednesday     5      2  2011  d_5          NaN   \n",
      "\n",
      "  event_type_1 event_name_2 event_type_2  snap_CA  snap_TX  snap_WI  \n",
      "0          NaN          NaN          NaN        0        0        0  \n",
      "1          NaN          NaN          NaN        0        0        0  \n",
      "2          NaN          NaN          NaN        0        0        0  \n",
      "3          NaN          NaN          NaN        1        1        0  \n",
      "4          NaN          NaN          NaN        1        0        1  \n",
      "\n",
      "Shape of the data:\n",
      "(1969, 14)\n"
     ]
    }
   ],
   "source": [
    "data_stats(calendar_data)"
   ]
  },
  {
   "cell_type": "code",
   "execution_count": 90,
   "metadata": {},
   "outputs": [
    {
     "name": "stdout",
     "output_type": "stream",
     "text": [
      "event_name_1 types for products:\n",
      "\n",
      "ValentinesDay          6\n",
      "NBAFinalsStart         6\n",
      "Pesach End             6\n",
      "PresidentsDay          6\n",
      "SuperBowl              6\n",
      "LentWeek2              6\n",
      "Ramadan starts         6\n",
      "Purim End              6\n",
      "Mother's day           6\n",
      "NBAFinalsEnd           6\n",
      "MemorialDay            6\n",
      "LentStart              6\n",
      "StPatricksDay          6\n",
      "Cinco De Mayo          5\n",
      "Eid al-Fitr            5\n",
      "Halloween              5\n",
      "Christmas              5\n",
      "IndependenceDay        5\n",
      "OrthodoxChristmas      5\n",
      "LaborDay               5\n",
      "ColumbusDay            5\n",
      "Thanksgiving           5\n",
      "Easter                 5\n",
      "MartinLutherKingDay    5\n",
      "EidAlAdha              5\n",
      "OrthodoxEaster         5\n",
      "Chanukah End           5\n",
      "NewYear                5\n",
      "VeteransDay            5\n",
      "Father's day           4\n",
      "Name: event_name_1, dtype: int64\n",
      "\n",
      "event_type_1 types for products:\n",
      "\n",
      "Religious    55\n",
      "National     52\n",
      "Cultural     37\n",
      "Sporting     18\n",
      "Name: event_type_1, dtype: int64\n",
      "\n",
      "event_name_2 types for products:\n",
      "\n",
      "Father's day      2\n",
      "OrthodoxEaster    1\n",
      "Easter            1\n",
      "Cinco De Mayo     1\n",
      "Name: event_name_2, dtype: int64\n",
      "\n",
      "event_type_2 types for products:\n",
      "\n",
      "Cultural     4\n",
      "Religious    1\n",
      "Name: event_type_2, dtype: int64\n"
     ]
    }
   ],
   "source": [
    "print('event_name_1 types for products:\\n')\n",
    "print(calendar_data.event_name_1.value_counts())\n",
    "\n",
    "print('\\nevent_type_1 types for products:\\n')\n",
    "print(calendar_data.event_type_1.value_counts())\n",
    "\n",
    "print('\\nevent_name_2 types for products:\\n')\n",
    "print(calendar_data.event_name_2.value_counts())\n",
    "\n",
    "print('\\nevent_type_2 types for products:\\n')\n",
    "print(calendar_data.event_type_2.value_counts())"
   ]
  },
  {
   "cell_type": "markdown",
   "metadata": {},
   "source": [
    "## sell_prices.csv"
   ]
  },
  {
   "cell_type": "code",
   "execution_count": 28,
   "metadata": {},
   "outputs": [
    {
     "name": "stdout",
     "output_type": "stream",
     "text": [
      "Info: \n",
      "<class 'pandas.core.frame.DataFrame'>\n",
      "RangeIndex: 6841121 entries, 0 to 6841120\n",
      "Data columns (total 4 columns):\n",
      "store_id      object\n",
      "item_id       object\n",
      "wm_yr_wk      int64\n",
      "sell_price    float64\n",
      "dtypes: float64(1), int64(1), object(2)\n",
      "memory usage: 208.8+ MB\n",
      "None\n",
      "\n",
      "First few rows of the data:\n",
      "  store_id        item_id  wm_yr_wk  sell_price\n",
      "0     CA_1  HOBBIES_1_001     11325        9.58\n",
      "1     CA_1  HOBBIES_1_001     11326        9.58\n",
      "2     CA_1  HOBBIES_1_001     11327        8.26\n",
      "3     CA_1  HOBBIES_1_001     11328        8.26\n",
      "4     CA_1  HOBBIES_1_001     11329        8.26\n",
      "\n",
      "Shape of the data:\n",
      "(6841121, 4)\n"
     ]
    }
   ],
   "source": [
    "data_stats(prices_data)"
   ]
  },
  {
   "cell_type": "code",
   "execution_count": 111,
   "metadata": {},
   "outputs": [
    {
     "data": {
      "text/plain": [
       "0"
      ]
     },
     "execution_count": 111,
     "metadata": {},
     "output_type": "execute_result"
    }
   ],
   "source": [
    "# null_counts_price_cols = (prices_data[prices_data.sell_price.isnull()])\n",
    "# null_counts_price_cols.sum()\n",
    "prices_data.sell_price.isnull().sum()"
   ]
  },
  {
   "cell_type": "markdown",
   "metadata": {},
   "source": [
    "sell_price column doesn't contain any null values"
   ]
  },
  {
   "cell_type": "code",
   "execution_count": 114,
   "metadata": {},
   "outputs": [
    {
     "data": {
      "text/plain": [
       "0"
      ]
     },
     "execution_count": 114,
     "metadata": {},
     "output_type": "execute_result"
    }
   ],
   "source": [
    "(prices_data.sell_price == 0).sum()"
   ]
  },
  {
   "cell_type": "markdown",
   "metadata": {},
   "source": [
    "sell_price column doesn't contain any zero values"
   ]
  },
  {
   "cell_type": "markdown",
   "metadata": {},
   "source": [
    "## To sort"
   ]
  },
  {
   "cell_type": "code",
   "execution_count": 5,
   "metadata": {},
   "outputs": [
    {
     "data": {
      "text/plain": [
       "[<matplotlib.lines.Line2D at 0x7f846799cc18>]"
      ]
     },
     "execution_count": 5,
     "metadata": {},
     "output_type": "execute_result"
    },
    {
     "data": {
      "image/png": "[encoded data removed]",
      "text/plain": [
       "<Figure size 1440x576 with 1 Axes>"
      ]
     },
     "metadata": {
      "needs_background": "light"
     },
     "output_type": "display_data"
    }
   ],
   "source": [
    "row1= sales_train_validation_data.loc[0]\n",
    "x = list(range(1,1914))\n",
    "y = list(row1[6:])\n",
    "plt.figure(figsize=(20,8))\n",
    "plt.plot(x, y)"
   ]
  },
  {
   "cell_type": "code",
   "execution_count": 91,
   "metadata": {},
   "outputs": [
    {
     "data": {
      "image/png": "[encoded data removed]",
      "text/plain": [
       "<Figure size 720x576 with 1 Axes>"
      ]
     },
     "metadata": {
      "needs_background": "light"
     },
     "output_type": "display_data"
    }
   ],
   "source": [
    "def plot_rolling_mean(rownum):\n",
    "    row1= sales_train_validation_data.iloc[rownum:rownum+1, :]\n",
    "    x = list(range(1,1914)) # no of d columns\n",
    "\n",
    "    y = row1.iloc[0, 6:].rolling(50, min_periods=1).mean().values # d column rolling mean values\n",
    "    plt.figure(figsize=(10,8))\n",
    "    plt.plot(x, y)\n",
    "\n",
    "plot_rolling_mean(0)"
   ]
  },
  {
   "cell_type": "code",
   "execution_count": 92,
   "metadata": {},
   "outputs": [
    {
     "data": {
      "image/png": "[encoded data removed]",
      "text/plain": [
       "<Figure size 720x576 with 1 Axes>"
      ]
     },
     "metadata": {
      "needs_background": "light"
     },
     "output_type": "display_data"
    }
   ],
   "source": [
    "plot_rolling_mean(8)\n",
    "# Seasonality"
   ]
  },
  {
   "cell_type": "markdown",
   "metadata": {},
   "source": [
    "data exploration and visualization → figure out unique identifiers, figure out static(eg province)/time varying features, what should be target variable; provide certain descriptive statistics"
   ]
  },
  {
   "cell_type": "code",
   "execution_count": null,
   "metadata": {},
   "outputs": [],
   "source": []
  },
  {
   "cell_type": "markdown",
   "metadata": {},
   "source": [
    "creation of training and target set → write down approach: how to create target variable (eg moving windows over time looking at previous sales), how to create training set, how will you divide data intro training, validation and test set (eg might want to do time-based split, should not have random split, explore what approaches people are following for time varying longitudinal split)"
   ]
  },
  {
   "cell_type": "code",
   "execution_count": null,
   "metadata": {},
   "outputs": [],
   "source": []
  },
  {
   "cell_type": "markdown",
   "metadata": {},
   "source": [
    "Do cross-product analysis"
   ]
  },
  {
   "cell_type": "code",
   "execution_count": null,
   "metadata": {},
   "outputs": [],
   "source": []
  },
  {
   "cell_type": "markdown",
   "metadata": {},
   "source": [
    "Try k-means clustering and see what results you get"
   ]
  },
  {
   "cell_type": "code",
   "execution_count": null,
   "metadata": {},
   "outputs": [],
   "source": []
  }
 ],
 "metadata": {
  "kernelspec": {
   "display_name": "Python 3",
   "language": "python",
   "name": "python3"
  },
  "language_info": {
   "codemirror_mode": {
    "name": "ipython",
    "version": 3
   },
   "file_extension": ".py",
   "mimetype": "text/x-python",
   "name": "python",
   "nbconvert_exporter": "python",
   "pygments_lexer": "ipython3",
   "version": "3.7.3"
  }
 },
 "nbformat": 4,
 "nbformat_minor": 2
}
