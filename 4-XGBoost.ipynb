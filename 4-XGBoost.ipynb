{
 "cells": [
  {
   "cell_type": "code",
   "execution_count": 56,
   "metadata": {},
   "outputs": [],
   "source": [
    "import numpy as np\n",
    "import pandas as pd\n",
    "import matplotlib.pyplot as plt\n",
    "import seaborn as sns\n",
    "\n",
    "from sklearn import preprocessing\n",
    "from sklearn.metrics import mean_squared_error\n",
    "from sklearn.model_selection import GridSearchCV\n",
    "from sklearn.model_selection import TimeSeriesSplit\n",
    "\n",
    "import xgboost as xgb\n",
    "\n",
    "pd.set_option(\"display.max_columns\", 101)"
   ]
  },
  {
   "cell_type": "code",
   "execution_count": 39,
   "metadata": {},
   "outputs": [
    {
     "data": {
      "text/html": [
       "<div>\n",
       "<style scoped>\n",
       "    .dataframe tbody tr th:only-of-type {\n",
       "        vertical-align: middle;\n",
       "    }\n",
       "\n",
       "    .dataframe tbody tr th {\n",
       "        vertical-align: top;\n",
       "    }\n",
       "\n",
       "    .dataframe thead th {\n",
       "        text-align: right;\n",
       "    }\n",
       "</style>\n",
       "<table border=\"1\" class=\"dataframe\">\n",
       "  <thead>\n",
       "    <tr style=\"text-align: right;\">\n",
       "      <th></th>\n",
       "      <th>store_id</th>\n",
       "      <th>day_number</th>\n",
       "      <th>units_sold</th>\n",
       "      <th>sell_price</th>\n",
       "      <th>snap</th>\n",
       "      <th>units_lag_28</th>\n",
       "      <th>mean_rolling_7</th>\n",
       "      <th>mean_rolling_28</th>\n",
       "      <th>mean_rolling_49</th>\n",
       "      <th>mean_rolling_84</th>\n",
       "      <th>mean_rolling_140</th>\n",
       "      <th>std_rolling_7</th>\n",
       "      <th>std_rolling_28</th>\n",
       "      <th>std_rolling_49</th>\n",
       "      <th>std_rolling_84</th>\n",
       "      <th>std_rolling_140</th>\n",
       "      <th>std_price_rolling_7</th>\n",
       "      <th>std_price_rolling_28</th>\n",
       "      <th>price_percent_change</th>\n",
       "      <th>dept_id_FOODS_1</th>\n",
       "      <th>dept_id_FOODS_2</th>\n",
       "      <th>dept_id_FOODS_3</th>\n",
       "      <th>dept_id_HOBBIES_1</th>\n",
       "      <th>dept_id_HOBBIES_2</th>\n",
       "      <th>dept_id_HOUSEHOLD_1</th>\n",
       "      <th>dept_id_HOUSEHOLD_2</th>\n",
       "      <th>store_id_CA_1</th>\n",
       "      <th>store_id_CA_2</th>\n",
       "      <th>store_id_CA_3</th>\n",
       "      <th>store_id_CA_4</th>\n",
       "      <th>store_id_TX_1</th>\n",
       "      <th>store_id_TX_2</th>\n",
       "      <th>store_id_TX_3</th>\n",
       "      <th>store_id_WI_1</th>\n",
       "      <th>store_id_WI_2</th>\n",
       "      <th>store_id_WI_3</th>\n",
       "      <th>weekday_Friday</th>\n",
       "      <th>weekday_Monday</th>\n",
       "      <th>weekday_Saturday</th>\n",
       "      <th>weekday_Sunday</th>\n",
       "      <th>weekday_Thursday</th>\n",
       "      <th>weekday_Tuesday</th>\n",
       "      <th>weekday_Wednesday</th>\n",
       "      <th>month_1</th>\n",
       "      <th>month_2</th>\n",
       "      <th>month_3</th>\n",
       "      <th>month_4</th>\n",
       "      <th>month_5</th>\n",
       "      <th>month_6</th>\n",
       "      <th>month_7</th>\n",
       "      <th>month_8</th>\n",
       "      <th>month_9</th>\n",
       "      <th>month_10</th>\n",
       "      <th>month_11</th>\n",
       "      <th>month_12</th>\n",
       "      <th>event_type_1_Cultural</th>\n",
       "      <th>event_type_1_National</th>\n",
       "      <th>event_type_1_Religious</th>\n",
       "      <th>event_type_1_Sporting</th>\n",
       "      <th>event_type_2_Cultural</th>\n",
       "      <th>event_type_2_Religious</th>\n",
       "    </tr>\n",
       "  </thead>\n",
       "  <tbody>\n",
       "    <tr>\n",
       "      <th>9685</th>\n",
       "      <td>TX_2</td>\n",
       "      <td>1941</td>\n",
       "      <td>NaN</td>\n",
       "      <td>8.257812</td>\n",
       "      <td>0</td>\n",
       "      <td>0.0</td>\n",
       "      <td>0.142822</td>\n",
       "      <td>0.285645</td>\n",
       "      <td>0.306152</td>\n",
       "      <td>0.357178</td>\n",
       "      <td>0.478516</td>\n",
       "      <td>0.377930</td>\n",
       "      <td>0.534668</td>\n",
       "      <td>0.651855</td>\n",
       "      <td>0.845215</td>\n",
       "      <td>0.826660</td>\n",
       "      <td>0.000000e+00</td>\n",
       "      <td>0.0</td>\n",
       "      <td>0.0</td>\n",
       "      <td>0</td>\n",
       "      <td>0</td>\n",
       "      <td>0</td>\n",
       "      <td>1</td>\n",
       "      <td>0</td>\n",
       "      <td>0</td>\n",
       "      <td>0</td>\n",
       "      <td>0</td>\n",
       "      <td>0</td>\n",
       "      <td>0</td>\n",
       "      <td>0</td>\n",
       "      <td>0</td>\n",
       "      <td>1</td>\n",
       "      <td>0</td>\n",
       "      <td>0</td>\n",
       "      <td>0</td>\n",
       "      <td>0</td>\n",
       "      <td>0</td>\n",
       "      <td>0</td>\n",
       "      <td>0</td>\n",
       "      <td>1</td>\n",
       "      <td>0</td>\n",
       "      <td>0</td>\n",
       "      <td>0</td>\n",
       "      <td>0</td>\n",
       "      <td>0</td>\n",
       "      <td>0</td>\n",
       "      <td>0</td>\n",
       "      <td>1</td>\n",
       "      <td>0</td>\n",
       "      <td>0</td>\n",
       "      <td>0</td>\n",
       "      <td>0</td>\n",
       "      <td>0</td>\n",
       "      <td>0</td>\n",
       "      <td>0</td>\n",
       "      <td>0</td>\n",
       "      <td>0</td>\n",
       "      <td>0</td>\n",
       "      <td>0</td>\n",
       "      <td>0</td>\n",
       "      <td>0</td>\n",
       "    </tr>\n",
       "    <tr>\n",
       "      <th>9686</th>\n",
       "      <td>TX_3</td>\n",
       "      <td>1941</td>\n",
       "      <td>NaN</td>\n",
       "      <td>8.257812</td>\n",
       "      <td>0</td>\n",
       "      <td>0.0</td>\n",
       "      <td>0.000000</td>\n",
       "      <td>0.321533</td>\n",
       "      <td>0.408203</td>\n",
       "      <td>0.440430</td>\n",
       "      <td>0.528809</td>\n",
       "      <td>0.000000</td>\n",
       "      <td>0.669434</td>\n",
       "      <td>0.733887</td>\n",
       "      <td>0.717285</td>\n",
       "      <td>0.834961</td>\n",
       "      <td>5.960464e-08</td>\n",
       "      <td>0.0</td>\n",
       "      <td>0.0</td>\n",
       "      <td>0</td>\n",
       "      <td>0</td>\n",
       "      <td>0</td>\n",
       "      <td>1</td>\n",
       "      <td>0</td>\n",
       "      <td>0</td>\n",
       "      <td>0</td>\n",
       "      <td>0</td>\n",
       "      <td>0</td>\n",
       "      <td>0</td>\n",
       "      <td>0</td>\n",
       "      <td>0</td>\n",
       "      <td>0</td>\n",
       "      <td>1</td>\n",
       "      <td>0</td>\n",
       "      <td>0</td>\n",
       "      <td>0</td>\n",
       "      <td>0</td>\n",
       "      <td>0</td>\n",
       "      <td>0</td>\n",
       "      <td>1</td>\n",
       "      <td>0</td>\n",
       "      <td>0</td>\n",
       "      <td>0</td>\n",
       "      <td>0</td>\n",
       "      <td>0</td>\n",
       "      <td>0</td>\n",
       "      <td>0</td>\n",
       "      <td>1</td>\n",
       "      <td>0</td>\n",
       "      <td>0</td>\n",
       "      <td>0</td>\n",
       "      <td>0</td>\n",
       "      <td>0</td>\n",
       "      <td>0</td>\n",
       "      <td>0</td>\n",
       "      <td>0</td>\n",
       "      <td>0</td>\n",
       "      <td>0</td>\n",
       "      <td>0</td>\n",
       "      <td>0</td>\n",
       "      <td>0</td>\n",
       "    </tr>\n",
       "    <tr>\n",
       "      <th>9687</th>\n",
       "      <td>WI_1</td>\n",
       "      <td>1941</td>\n",
       "      <td>NaN</td>\n",
       "      <td>8.382812</td>\n",
       "      <td>0</td>\n",
       "      <td>1.0</td>\n",
       "      <td>0.714355</td>\n",
       "      <td>0.392822</td>\n",
       "      <td>0.408203</td>\n",
       "      <td>0.464355</td>\n",
       "      <td>0.435791</td>\n",
       "      <td>0.755859</td>\n",
       "      <td>0.628906</td>\n",
       "      <td>0.643066</td>\n",
       "      <td>0.767578</td>\n",
       "      <td>0.750977</td>\n",
       "      <td>0.000000e+00</td>\n",
       "      <td>0.0</td>\n",
       "      <td>0.0</td>\n",
       "      <td>0</td>\n",
       "      <td>0</td>\n",
       "      <td>0</td>\n",
       "      <td>1</td>\n",
       "      <td>0</td>\n",
       "      <td>0</td>\n",
       "      <td>0</td>\n",
       "      <td>0</td>\n",
       "      <td>0</td>\n",
       "      <td>0</td>\n",
       "      <td>0</td>\n",
       "      <td>0</td>\n",
       "      <td>0</td>\n",
       "      <td>0</td>\n",
       "      <td>1</td>\n",
       "      <td>0</td>\n",
       "      <td>0</td>\n",
       "      <td>0</td>\n",
       "      <td>0</td>\n",
       "      <td>0</td>\n",
       "      <td>1</td>\n",
       "      <td>0</td>\n",
       "      <td>0</td>\n",
       "      <td>0</td>\n",
       "      <td>0</td>\n",
       "      <td>0</td>\n",
       "      <td>0</td>\n",
       "      <td>0</td>\n",
       "      <td>1</td>\n",
       "      <td>0</td>\n",
       "      <td>0</td>\n",
       "      <td>0</td>\n",
       "      <td>0</td>\n",
       "      <td>0</td>\n",
       "      <td>0</td>\n",
       "      <td>0</td>\n",
       "      <td>0</td>\n",
       "      <td>0</td>\n",
       "      <td>0</td>\n",
       "      <td>0</td>\n",
       "      <td>0</td>\n",
       "      <td>0</td>\n",
       "    </tr>\n",
       "    <tr>\n",
       "      <th>9688</th>\n",
       "      <td>WI_2</td>\n",
       "      <td>1941</td>\n",
       "      <td>NaN</td>\n",
       "      <td>8.382812</td>\n",
       "      <td>0</td>\n",
       "      <td>1.0</td>\n",
       "      <td>0.142822</td>\n",
       "      <td>0.250000</td>\n",
       "      <td>0.163208</td>\n",
       "      <td>0.095215</td>\n",
       "      <td>0.085693</td>\n",
       "      <td>0.377930</td>\n",
       "      <td>0.440918</td>\n",
       "      <td>0.373535</td>\n",
       "      <td>0.295410</td>\n",
       "      <td>0.305420</td>\n",
       "      <td>0.000000e+00</td>\n",
       "      <td>0.0</td>\n",
       "      <td>0.0</td>\n",
       "      <td>0</td>\n",
       "      <td>0</td>\n",
       "      <td>0</td>\n",
       "      <td>1</td>\n",
       "      <td>0</td>\n",
       "      <td>0</td>\n",
       "      <td>0</td>\n",
       "      <td>0</td>\n",
       "      <td>0</td>\n",
       "      <td>0</td>\n",
       "      <td>0</td>\n",
       "      <td>0</td>\n",
       "      <td>0</td>\n",
       "      <td>0</td>\n",
       "      <td>0</td>\n",
       "      <td>1</td>\n",
       "      <td>0</td>\n",
       "      <td>0</td>\n",
       "      <td>0</td>\n",
       "      <td>0</td>\n",
       "      <td>1</td>\n",
       "      <td>0</td>\n",
       "      <td>0</td>\n",
       "      <td>0</td>\n",
       "      <td>0</td>\n",
       "      <td>0</td>\n",
       "      <td>0</td>\n",
       "      <td>0</td>\n",
       "      <td>1</td>\n",
       "      <td>0</td>\n",
       "      <td>0</td>\n",
       "      <td>0</td>\n",
       "      <td>0</td>\n",
       "      <td>0</td>\n",
       "      <td>0</td>\n",
       "      <td>0</td>\n",
       "      <td>0</td>\n",
       "      <td>0</td>\n",
       "      <td>0</td>\n",
       "      <td>0</td>\n",
       "      <td>0</td>\n",
       "      <td>0</td>\n",
       "    </tr>\n",
       "    <tr>\n",
       "      <th>9689</th>\n",
       "      <td>WI_3</td>\n",
       "      <td>1941</td>\n",
       "      <td>NaN</td>\n",
       "      <td>8.382812</td>\n",
       "      <td>0</td>\n",
       "      <td>0.0</td>\n",
       "      <td>0.000000</td>\n",
       "      <td>0.107117</td>\n",
       "      <td>0.163208</td>\n",
       "      <td>0.214233</td>\n",
       "      <td>0.214233</td>\n",
       "      <td>0.000000</td>\n",
       "      <td>0.314941</td>\n",
       "      <td>0.373535</td>\n",
       "      <td>0.440918</td>\n",
       "      <td>0.476562</td>\n",
       "      <td>0.000000e+00</td>\n",
       "      <td>0.0</td>\n",
       "      <td>0.0</td>\n",
       "      <td>0</td>\n",
       "      <td>0</td>\n",
       "      <td>0</td>\n",
       "      <td>1</td>\n",
       "      <td>0</td>\n",
       "      <td>0</td>\n",
       "      <td>0</td>\n",
       "      <td>0</td>\n",
       "      <td>0</td>\n",
       "      <td>0</td>\n",
       "      <td>0</td>\n",
       "      <td>0</td>\n",
       "      <td>0</td>\n",
       "      <td>0</td>\n",
       "      <td>0</td>\n",
       "      <td>0</td>\n",
       "      <td>1</td>\n",
       "      <td>0</td>\n",
       "      <td>0</td>\n",
       "      <td>0</td>\n",
       "      <td>1</td>\n",
       "      <td>0</td>\n",
       "      <td>0</td>\n",
       "      <td>0</td>\n",
       "      <td>0</td>\n",
       "      <td>0</td>\n",
       "      <td>0</td>\n",
       "      <td>0</td>\n",
       "      <td>1</td>\n",
       "      <td>0</td>\n",
       "      <td>0</td>\n",
       "      <td>0</td>\n",
       "      <td>0</td>\n",
       "      <td>0</td>\n",
       "      <td>0</td>\n",
       "      <td>0</td>\n",
       "      <td>0</td>\n",
       "      <td>0</td>\n",
       "      <td>0</td>\n",
       "      <td>0</td>\n",
       "      <td>0</td>\n",
       "      <td>0</td>\n",
       "    </tr>\n",
       "  </tbody>\n",
       "</table>\n",
       "</div>"
      ],
      "text/plain": [
       "     store_id day_number  units_sold  sell_price  snap  units_lag_28  \\\n",
       "9685     TX_2       1941         NaN    8.257812     0           0.0   \n",
       "9686     TX_3       1941         NaN    8.257812     0           0.0   \n",
       "9687     WI_1       1941         NaN    8.382812     0           1.0   \n",
       "9688     WI_2       1941         NaN    8.382812     0           1.0   \n",
       "9689     WI_3       1941         NaN    8.382812     0           0.0   \n",
       "\n",
       "      mean_rolling_7  mean_rolling_28  mean_rolling_49  mean_rolling_84  \\\n",
       "9685        0.142822         0.285645         0.306152         0.357178   \n",
       "9686        0.000000         0.321533         0.408203         0.440430   \n",
       "9687        0.714355         0.392822         0.408203         0.464355   \n",
       "9688        0.142822         0.250000         0.163208         0.095215   \n",
       "9689        0.000000         0.107117         0.163208         0.214233   \n",
       "\n",
       "      mean_rolling_140  std_rolling_7  std_rolling_28  std_rolling_49  \\\n",
       "9685          0.478516       0.377930        0.534668        0.651855   \n",
       "9686          0.528809       0.000000        0.669434        0.733887   \n",
       "9687          0.435791       0.755859        0.628906        0.643066   \n",
       "9688          0.085693       0.377930        0.440918        0.373535   \n",
       "9689          0.214233       0.000000        0.314941        0.373535   \n",
       "\n",
       "      std_rolling_84  std_rolling_140  std_price_rolling_7  \\\n",
       "9685        0.845215         0.826660         0.000000e+00   \n",
       "9686        0.717285         0.834961         5.960464e-08   \n",
       "9687        0.767578         0.750977         0.000000e+00   \n",
       "9688        0.295410         0.305420         0.000000e+00   \n",
       "9689        0.440918         0.476562         0.000000e+00   \n",
       "\n",
       "      std_price_rolling_28  price_percent_change  dept_id_FOODS_1  \\\n",
       "9685                   0.0                   0.0                0   \n",
       "9686                   0.0                   0.0                0   \n",
       "9687                   0.0                   0.0                0   \n",
       "9688                   0.0                   0.0                0   \n",
       "9689                   0.0                   0.0                0   \n",
       "\n",
       "      dept_id_FOODS_2  dept_id_FOODS_3  dept_id_HOBBIES_1  dept_id_HOBBIES_2  \\\n",
       "9685                0                0                  1                  0   \n",
       "9686                0                0                  1                  0   \n",
       "9687                0                0                  1                  0   \n",
       "9688                0                0                  1                  0   \n",
       "9689                0                0                  1                  0   \n",
       "\n",
       "      dept_id_HOUSEHOLD_1  dept_id_HOUSEHOLD_2  store_id_CA_1  store_id_CA_2  \\\n",
       "9685                    0                    0              0              0   \n",
       "9686                    0                    0              0              0   \n",
       "9687                    0                    0              0              0   \n",
       "9688                    0                    0              0              0   \n",
       "9689                    0                    0              0              0   \n",
       "\n",
       "      store_id_CA_3  store_id_CA_4  store_id_TX_1  store_id_TX_2  \\\n",
       "9685              0              0              0              1   \n",
       "9686              0              0              0              0   \n",
       "9687              0              0              0              0   \n",
       "9688              0              0              0              0   \n",
       "9689              0              0              0              0   \n",
       "\n",
       "      store_id_TX_3  store_id_WI_1  store_id_WI_2  store_id_WI_3  \\\n",
       "9685              0              0              0              0   \n",
       "9686              1              0              0              0   \n",
       "9687              0              1              0              0   \n",
       "9688              0              0              1              0   \n",
       "9689              0              0              0              1   \n",
       "\n",
       "      weekday_Friday  weekday_Monday  weekday_Saturday  weekday_Sunday  \\\n",
       "9685               0               0                 0               1   \n",
       "9686               0               0                 0               1   \n",
       "9687               0               0                 0               1   \n",
       "9688               0               0                 0               1   \n",
       "9689               0               0                 0               1   \n",
       "\n",
       "      weekday_Thursday  weekday_Tuesday  weekday_Wednesday  month_1  month_2  \\\n",
       "9685                 0                0                  0        0        0   \n",
       "9686                 0                0                  0        0        0   \n",
       "9687                 0                0                  0        0        0   \n",
       "9688                 0                0                  0        0        0   \n",
       "9689                 0                0                  0        0        0   \n",
       "\n",
       "      month_3  month_4  month_5  month_6  month_7  month_8  month_9  month_10  \\\n",
       "9685        0        0        1        0        0        0        0         0   \n",
       "9686        0        0        1        0        0        0        0         0   \n",
       "9687        0        0        1        0        0        0        0         0   \n",
       "9688        0        0        1        0        0        0        0         0   \n",
       "9689        0        0        1        0        0        0        0         0   \n",
       "\n",
       "      month_11  month_12  event_type_1_Cultural  event_type_1_National  \\\n",
       "9685         0         0                      0                      0   \n",
       "9686         0         0                      0                      0   \n",
       "9687         0         0                      0                      0   \n",
       "9688         0         0                      0                      0   \n",
       "9689         0         0                      0                      0   \n",
       "\n",
       "      event_type_1_Religious  event_type_1_Sporting  event_type_2_Cultural  \\\n",
       "9685                       0                      0                      0   \n",
       "9686                       0                      0                      0   \n",
       "9687                       0                      0                      0   \n",
       "9688                       0                      0                      0   \n",
       "9689                       0                      0                      0   \n",
       "\n",
       "      event_type_2_Religious  \n",
       "9685                       0  \n",
       "9686                       0  \n",
       "9687                       0  \n",
       "9688                       0  \n",
       "9689                       0  "
      ]
     },
     "execution_count": 39,
     "metadata": {},
     "output_type": "execute_result"
    }
   ],
   "source": [
    "first_product = pd.read_pickle(\"./HOBBIES_1_001_feature.pkl\")\n",
    "first_product.tail()"
   ]
  },
  {
   "cell_type": "code",
   "execution_count": null,
   "metadata": {},
   "outputs": [],
   "source": []
  },
  {
   "cell_type": "code",
   "execution_count": 70,
   "metadata": {},
   "outputs": [],
   "source": [
    "first_product_train = first_product[first_product.day_number.astype(int) <= 1885].reset_index(drop=True) # 1913-28\n",
    "first_product_validation = first_product[(first_product.day_number.astype(int) > 1885)\n",
    "                                         & (first_product.day_number.astype(int) < 1914)].reset_index(drop=True)\n",
    "first_product_test = first_product[first_product.day_number.astype(int) >= 1914].reset_index(drop=True)\n",
    "\n",
    "first_product_train_x = first_product_train.iloc[:, 3:]\n",
    "first_product_train_y = first_product_train.units_sold\n",
    "first_product_validation_x = first_product_validation.iloc[:, 3:]\n",
    "first_product_validation_y = first_product_validation.units_sold\n",
    "\n",
    "first_product_test_x = first_product_test.iloc[:, 3:]"
   ]
  },
  {
   "cell_type": "code",
   "execution_count": 62,
   "metadata": {},
   "outputs": [
    {
     "data": {
      "text/plain": [
       "280"
      ]
     },
     "execution_count": 62,
     "metadata": {},
     "output_type": "execute_result"
    }
   ],
   "source": [
    "len(first_product_validation)"
   ]
  },
  {
   "cell_type": "markdown",
   "metadata": {},
   "source": [
    "## XGBoost"
   ]
  },
  {
   "cell_type": "code",
   "execution_count": 74,
   "metadata": {},
   "outputs": [],
   "source": [
    "model = xgb.XGBRegressor(colsample_bytree=0.4,\n",
    "                 gamma=0,                 \n",
    "                 learning_rate=0.07,\n",
    "                 max_depth=3,\n",
    "                 min_child_weight=1.5,\n",
    "                 n_estimators=100,                                                                    \n",
    "                 reg_alpha=0.75,\n",
    "                 reg_lambda=0.45,\n",
    "                 subsample=0.6,\n",
    "                 seed=42)"
   ]
  },
  {
   "cell_type": "code",
   "execution_count": 75,
   "metadata": {},
   "outputs": [
    {
     "name": "stderr",
     "output_type": "stream",
     "text": [
      "/home/asif/.local/lib/python3.7/site-packages/xgboost/core.py:587: FutureWarning: Series.base is deprecated and will be removed in a future version\n",
      "  if getattr(data, 'base', None) is not None and \\\n",
      "/home/asif/.local/lib/python3.7/site-packages/xgboost/core.py:588: FutureWarning: Series.base is deprecated and will be removed in a future version\n",
      "  data.base is not None and isinstance(data, np.ndarray) \\\n"
     ]
    },
    {
     "name": "stdout",
     "output_type": "stream",
     "text": [
      "[17:17:49] WARNING: /workspace/src/objective/regression_obj.cu:152: reg:linear is now deprecated in favor of reg:squarederror.\n"
     ]
    },
    {
     "data": {
      "text/plain": [
       "XGBRegressor(base_score=0.5, booster='gbtree', colsample_bylevel=1,\n",
       "       colsample_bynode=1, colsample_bytree=0.4, gamma=0,\n",
       "       importance_type='gain', learning_rate=0.07, max_delta_step=0,\n",
       "       max_depth=3, min_child_weight=1.5, missing=None, n_estimators=100,\n",
       "       n_jobs=1, nthread=None, objective='reg:linear', random_state=0,\n",
       "       reg_alpha=0.75, reg_lambda=0.45, scale_pos_weight=1, seed=42,\n",
       "       silent=None, subsample=0.6, verbosity=1)"
      ]
     },
     "execution_count": 75,
     "metadata": {},
     "output_type": "execute_result"
    }
   ],
   "source": [
    "model.fit(first_product_train_x, first_product_train_y)"
   ]
  },
  {
   "cell_type": "code",
   "execution_count": 76,
   "metadata": {},
   "outputs": [
    {
     "data": {
      "text/plain": [
       "array([1., 1., 2., 1., 0., 1., 1., 0., 0., 0., 1., 1., 1., 1., 0., 1., 1.,\n",
       "       0., 0., 0., 1., 1., 1., 1., 0., 1., 1., 0., 0., 0., 1., 1., 1., 1.,\n",
       "       0., 0., 1., 0., 0., 0., 1., 1., 1., 1., 0., 0., 1., 0., 0., 0., 1.,\n",
       "       1., 1., 1., 0., 1., 1., 1., 0., 0., 1., 1., 1., 1., 0., 0., 1., 1.,\n",
       "       0., 0., 1., 1., 1., 1., 0., 0., 1., 1., 0., 0., 1., 1., 1., 1., 0.,\n",
       "       0., 1., 1., 0., 0., 1., 1., 1., 1., 0., 0., 1., 1., 0., 0., 1., 0.,\n",
       "       1., 1., 0., 0., 1., 0., 0., 0., 1., 1., 1., 1., 0., 1., 1., 0., 0.,\n",
       "       0., 1., 1., 1., 1., 0., 1., 1., 0., 0., 0., 1., 1., 1., 1., 0., 1.,\n",
       "       1., 0., 0., 0., 1., 1., 1., 1., 0., 1., 1., 0., 0., 0., 1., 1., 1.,\n",
       "       1., 0., 1., 1., 0., 0., 0., 1., 0., 1., 1., 0., 1., 0., 0., 0., 0.,\n",
       "       1., 0., 1., 1., 0., 0., 1., 0., 0., 0., 1., 1., 1., 1., 0., 0., 1.,\n",
       "       0., 0., 0., 1., 1., 1., 1., 0., 1., 1., 0., 0., 0., 1., 1., 1., 1.,\n",
       "       0., 0., 1., 0., 0., 0., 1., 1., 1., 1., 0., 0., 0., 0., 0., 0., 1.,\n",
       "       1., 1., 1., 0., 0., 0., 0., 0., 0., 1., 1., 2., 1., 0., 0., 1., 0.,\n",
       "       0., 0., 1., 0., 2., 1., 0., 0., 1., 0., 0., 0., 1., 1., 2., 1., 0.,\n",
       "       1., 1., 0., 0., 0., 1., 1., 3., 1., 0., 1., 1., 1., 0., 0., 1., 1.,\n",
       "       3., 1., 0., 1., 1., 0., 0., 0.], dtype=float32)"
      ]
     },
     "execution_count": 76,
     "metadata": {},
     "output_type": "execute_result"
    }
   ],
   "source": [
    "xgb_preds = np.round(model.predict(first_product_validation_x))\n",
    "xgb_preds"
   ]
  },
  {
   "cell_type": "code",
   "execution_count": 77,
   "metadata": {},
   "outputs": [
    {
     "data": {
      "text/plain": [
       "0.8493695"
      ]
     },
     "execution_count": 77,
     "metadata": {},
     "output_type": "execute_result"
    }
   ],
   "source": [
    "np.sqrt(mean_squared_error(first_product_validation_y.values, xgb_preds))"
   ]
  },
  {
   "cell_type": "code",
   "execution_count": 45,
   "metadata": {},
   "outputs": [
    {
     "data": {
      "text/plain": [
       "Text(0, 0.5, 'Feature Importance Score')"
      ]
     },
     "execution_count": 45,
     "metadata": {},
     "output_type": "execute_result"
    },
    {
     "data": {
      "image/png": "[encoded data removed]",
      "text/plain": [
       "<Figure size 1080x576 with 1 Axes>"
      ]
     },
     "metadata": {
      "needs_background": "light"
     },
     "output_type": "display_data"
    }
   ],
   "source": [
    "feature_importances = pd.Series(model.get_booster().get_fscore()).sort_values(ascending=False)\n",
    "plt.figure(figsize=(15, 8))\n",
    "feature_importances.plot(kind='bar')\n",
    "\n",
    "plt.ylabel('Feature Importance Score')"
   ]
  },
  {
   "cell_type": "code",
   "execution_count": 46,
   "metadata": {},
   "outputs": [],
   "source": [
    "# colsample_bytree=0.4, gamma=0,learning_rate=0.07, max_depth=3, min_child_weight=1.5, n_estimators=100,                                                                    \n",
    "# reg_alpha=0.75, reg_lambda=0.45, subsample=0.6"
   ]
  },
  {
   "cell_type": "markdown",
   "metadata": {},
   "source": [
    "### Tuning reg_alpha and reg_lambda"
   ]
  },
  {
   "cell_type": "code",
   "execution_count": 79,
   "metadata": {},
   "outputs": [
    {
     "name": "stderr",
     "output_type": "stream",
     "text": [
      "/home/asif/.local/lib/python3.7/site-packages/xgboost/core.py:587: FutureWarning: Series.base is deprecated and will be removed in a future version\n",
      "  if getattr(data, 'base', None) is not None and \\\n",
      "/home/asif/.local/lib/python3.7/site-packages/xgboost/core.py:588: FutureWarning: Series.base is deprecated and will be removed in a future version\n",
      "  data.base is not None and isinstance(data, np.ndarray) \\\n"
     ]
    },
    {
     "name": "stdout",
     "output_type": "stream",
     "text": [
      "[17:20:11] WARNING: /workspace/src/objective/regression_obj.cu:152: reg:linear is now deprecated in favor of reg:squarederror.\n"
     ]
    },
    {
     "data": {
      "text/plain": [
       "({'reg_alpha': 1, 'reg_lambda': 0.75}, -0.5296396762132645)"
      ]
     },
     "execution_count": 79,
     "metadata": {},
     "output_type": "execute_result"
    }
   ],
   "source": [
    "# We need to take days before 1914 as days after 1914 contain NaN units sold for the days we will forecast\n",
    "first_product_x = first_product[first_product.day_number.astype(int) < 1914].iloc[:, 3:]\n",
    "first_product_y = first_product[first_product.day_number.astype(int) < 1914].units_sold\n",
    "\n",
    "# tscv = TimeSeriesSplit(n_splits=10)\n",
    "# grid_search = GridSearchCV(clf, param_grid, cv=tscv.split(X))\n",
    "\n",
    "# Need to define cv parameter separately because we need to specify split mechanism\n",
    "# because time series split cannot just be split randomly\n",
    "# for each split, validation indices have to be greater than train indices\n",
    "\n",
    "# tscv.split(first_product_train_x) => internally creates validation sets from first_product_train_x\n",
    "\n",
    "reg_params = {\n",
    " 'reg_alpha':[1e-5, 1e-2, 0.1, 0.75, 1, 100],\n",
    " 'reg_lambda':[1e-5, 1e-2, 0.1, 0.45, 0.75, 1],\n",
    "    \n",
    "}\n",
    "reg_gsearch = GridSearchCV(estimator = xgb.XGBRegressor(colsample_bytree=0.4,\n",
    "                 gamma=0,                 \n",
    "                 learning_rate=0.07,\n",
    "                 max_depth=3,\n",
    "                 min_child_weight=1.5,\n",
    "                 n_estimators=100,                                                                    \n",
    "                 reg_alpha=0.75,\n",
    "                 reg_lambda=0.45,\n",
    "                 subsample=0.6,\n",
    "                 seed=42), \n",
    "             param_grid = reg_params, scoring='neg_mean_squared_error', n_jobs=4, iid=False,\n",
    "             cv=tscv.split(first_product_x))\n",
    "reg_gsearch.fit(first_product_x, first_product_y)\n",
    "reg_gsearch.best_params_, reg_gsearch.best_score_"
   ]
  },
  {
   "cell_type": "code",
   "execution_count": 80,
   "metadata": {},
   "outputs": [
    {
     "name": "stdout",
     "output_type": "stream",
     "text": [
      "[17:20:30] WARNING: /workspace/src/objective/regression_obj.cu:152: reg:linear is now deprecated in favor of reg:squarederror.\n"
     ]
    },
    {
     "data": {
      "text/plain": [
       "0.85981727"
      ]
     },
     "execution_count": 80,
     "metadata": {},
     "output_type": "execute_result"
    }
   ],
   "source": [
    "model = xgb.XGBRegressor(colsample_bytree=0.4,\n",
    "                 gamma=0,                 \n",
    "                 learning_rate=0.07,\n",
    "                 max_depth=3,\n",
    "                 min_child_weight=1.5,\n",
    "                 n_estimators=100,                                                                    \n",
    "                 reg_alpha=1,\n",
    "                 reg_lambda=0.75,\n",
    "                 subsample=0.6,\n",
    "                 seed=42)\n",
    "model.fit(first_product_train_x, first_product_train_y)\n",
    "xgb_preds = np.round(model.predict(first_product_validation_x))\n",
    "np.sqrt(mean_squared_error(first_product_validation_y.values, xgb_preds))"
   ]
  },
  {
   "cell_type": "markdown",
   "metadata": {},
   "source": [
    "We notice that after tuning teh reg_alpha and reg_lambda values, the error is slightly higher than the previous error with the untuned values, which is unexpected. This could be because grid search has a larger validation set so the best score is evaluated on a larger set, which could result in a smaller best score for the grid search."
   ]
  },
  {
   "cell_type": "markdown",
   "metadata": {},
   "source": [
    "### Tuning max_depth"
   ]
  },
  {
   "cell_type": "code",
   "execution_count": 92,
   "metadata": {},
   "outputs": [
    {
     "name": "stderr",
     "output_type": "stream",
     "text": [
      "/home/asif/.local/lib/python3.7/site-packages/xgboost/core.py:587: FutureWarning: Series.base is deprecated and will be removed in a future version\n",
      "  if getattr(data, 'base', None) is not None and \\\n",
      "/home/asif/.local/lib/python3.7/site-packages/xgboost/core.py:588: FutureWarning: Series.base is deprecated and will be removed in a future version\n",
      "  data.base is not None and isinstance(data, np.ndarray) \\\n"
     ]
    },
    {
     "name": "stdout",
     "output_type": "stream",
     "text": [
      "[17:33:08] WARNING: /workspace/src/objective/regression_obj.cu:152: reg:linear is now deprecated in favor of reg:squarederror.\n"
     ]
    },
    {
     "data": {
      "text/plain": [
       "({'max_depth': 3}, -0.5296396762132645)"
      ]
     },
     "execution_count": 92,
     "metadata": {},
     "output_type": "execute_result"
    }
   ],
   "source": [
    "reg_params = {\n",
    " 'max_depth': range(3,10,2)\n",
    "    \n",
    "}\n",
    "reg_gsearch = GridSearchCV(estimator = xgb.XGBRegressor(colsample_bytree=0.4,\n",
    "                 gamma=0,                 \n",
    "                 learning_rate=0.07,\n",
    "                 max_depth=3,\n",
    "                 min_child_weight=1.5,\n",
    "                 n_estimators=100,                                                                    \n",
    "                 reg_alpha=1,\n",
    "                 reg_lambda=0.75,\n",
    "                 subsample=0.6,\n",
    "                 seed=42), \n",
    "             param_grid = reg_params, scoring='neg_mean_squared_error', n_jobs=4, iid=False,\n",
    "             cv=tscv.split(first_product_x))\n",
    "reg_gsearch.fit(first_product_x, first_product_y)\n",
    "reg_gsearch.best_params_, reg_gsearch.best_score_"
   ]
  },
  {
   "cell_type": "code",
   "execution_count": 91,
   "metadata": {},
   "outputs": [
    {
     "name": "stderr",
     "output_type": "stream",
     "text": [
      "/home/asif/.local/lib/python3.7/site-packages/xgboost/core.py:587: FutureWarning: Series.base is deprecated and will be removed in a future version\n",
      "  if getattr(data, 'base', None) is not None and \\\n",
      "/home/asif/.local/lib/python3.7/site-packages/xgboost/core.py:588: FutureWarning: Series.base is deprecated and will be removed in a future version\n",
      "  data.base is not None and isinstance(data, np.ndarray) \\\n"
     ]
    },
    {
     "name": "stdout",
     "output_type": "stream",
     "text": [
      "[17:32:37] WARNING: /workspace/src/objective/regression_obj.cu:152: reg:linear is now deprecated in favor of reg:squarederror.\n"
     ]
    },
    {
     "data": {
      "text/plain": [
       "0.85981727"
      ]
     },
     "execution_count": 91,
     "metadata": {},
     "output_type": "execute_result"
    }
   ],
   "source": [
    "model = xgb.XGBRegressor(colsample_bytree=0.4,\n",
    "                 gamma=0,                 \n",
    "                 learning_rate=0.07,\n",
    "                 max_depth=3,\n",
    "                 min_child_weight=2,\n",
    "                 n_estimators=100,                                                                    \n",
    "                 reg_alpha=1,\n",
    "                 reg_lambda=0.75,\n",
    "                 subsample=0.6,\n",
    "                 seed=42)\n",
    "model.fit(first_product_train_x, first_product_train_y)\n",
    "xgb_preds = np.round(model.predict(first_product_validation_x))\n",
    "np.sqrt(mean_squared_error(first_product_validation_y.values, xgb_preds))"
   ]
  },
  {
   "cell_type": "markdown",
   "metadata": {},
   "source": [
    "### Tuning  subsample and colsample_bytree"
   ]
  },
  {
   "cell_type": "code",
   "execution_count": 112,
   "metadata": {},
   "outputs": [
    {
     "name": "stderr",
     "output_type": "stream",
     "text": [
      "/home/asif/anaconda3/lib/python3.7/site-packages/sklearn/externals/joblib/externals/loky/process_executor.py:706: UserWarning: A worker stopped while some jobs were given to the executor. This can be caused by a too short worker timeout or by a memory leak.\n",
      "  \"timeout or by a memory leak.\", UserWarning\n",
      "/home/asif/.local/lib/python3.7/site-packages/xgboost/core.py:587: FutureWarning: Series.base is deprecated and will be removed in a future version\n",
      "  if getattr(data, 'base', None) is not None and \\\n",
      "/home/asif/.local/lib/python3.7/site-packages/xgboost/core.py:588: FutureWarning: Series.base is deprecated and will be removed in a future version\n",
      "  data.base is not None and isinstance(data, np.ndarray) \\\n"
     ]
    },
    {
     "name": "stdout",
     "output_type": "stream",
     "text": [
      "[17:41:55] WARNING: /workspace/src/objective/regression_obj.cu:152: reg:linear is now deprecated in favor of reg:squarederror.\n"
     ]
    },
    {
     "data": {
      "text/plain": [
       "({'colsample_bytree': 0.1, 'subsample': 0.6}, -0.5235318779945374)"
      ]
     },
     "execution_count": 112,
     "metadata": {},
     "output_type": "execute_result"
    }
   ],
   "source": [
    "reg_params = {\n",
    "    'subsample':[i/10.0 for i in range(0,10)],\n",
    "    'colsample_bytree':[i/10.0 for i in range(0,10)]\n",
    "}\n",
    "reg_gsearch = GridSearchCV(estimator = xgb.XGBRegressor(colsample_bytree=0.4,\n",
    "                 gamma=0,                 \n",
    "                 learning_rate=0.07,\n",
    "                 max_depth=3,\n",
    "                 min_child_weight=2,\n",
    "                 n_estimators=100,                                                                    \n",
    "                 reg_alpha=1,\n",
    "                 reg_lambda=0.75,\n",
    "                 subsample=0.6,\n",
    "                 seed=42), \n",
    "             param_grid = reg_params, scoring='neg_mean_squared_error', n_jobs=4, iid=False,\n",
    "             cv=tscv.split(first_product_x))\n",
    "reg_gsearch.fit(first_product_x, first_product_y)\n",
    "reg_gsearch.best_params_, reg_gsearch.best_score_"
   ]
  },
  {
   "cell_type": "code",
   "execution_count": 111,
   "metadata": {},
   "outputs": [
    {
     "name": "stderr",
     "output_type": "stream",
     "text": [
      "/home/asif/.local/lib/python3.7/site-packages/xgboost/core.py:587: FutureWarning: Series.base is deprecated and will be removed in a future version\n",
      "  if getattr(data, 'base', None) is not None and \\\n",
      "/home/asif/.local/lib/python3.7/site-packages/xgboost/core.py:588: FutureWarning: Series.base is deprecated and will be removed in a future version\n",
      "  data.base is not None and isinstance(data, np.ndarray) \\\n"
     ]
    },
    {
     "name": "stdout",
     "output_type": "stream",
     "text": [
      "[17:40:22] WARNING: /workspace/src/objective/regression_obj.cu:152: reg:linear is now deprecated in favor of reg:squarederror.\n"
     ]
    },
    {
     "data": {
      "text/plain": [
       "0.8451543"
      ]
     },
     "execution_count": 111,
     "metadata": {},
     "output_type": "execute_result"
    }
   ],
   "source": [
    "model = xgb.XGBRegressor(colsample_bytree=0.1,\n",
    "                 gamma=0,                 \n",
    "                 learning_rate=0.07,\n",
    "                 max_depth=3,\n",
    "                 min_child_weight=2,\n",
    "                 n_estimators=100,                                                                    \n",
    "                 reg_alpha=1,\n",
    "                 reg_lambda=0.75,\n",
    "                 subsample=0.6,\n",
    "                 seed=42)\n",
    "model.fit(first_product_train_x, first_product_train_y)\n",
    "xgb_preds = np.round(model.predict(first_product_validation_x))\n",
    "np.sqrt(mean_squared_error(first_product_validation_y.values, xgb_preds))"
   ]
  }
 ],
 "metadata": {
  "kernelspec": {
   "display_name": "Python 3",
   "language": "python",
   "name": "python3"
  },
  "language_info": {
   "codemirror_mode": {
    "name": "ipython",
    "version": 3
   },
   "file_extension": ".py",
   "mimetype": "text/x-python",
   "name": "python",
   "nbconvert_exporter": "python",
   "pygments_lexer": "ipython3",
   "version": "3.7.3"
  }
 },
 "nbformat": 4,
 "nbformat_minor": 2
}
