{
 "cells": [
  {
   "cell_type": "markdown",
   "metadata": {},
   "source": [
    "### In Progress..."
   ]
  },
  {
   "cell_type": "code",
   "execution_count": 18,
   "metadata": {},
   "outputs": [],
   "source": [
    "import numpy as np\n",
    "import pandas as pd\n",
    "import matplotlib.pyplot as plt\n",
    "import seaborn as sns\n",
    "\n",
    "# from sklearn import preprocessing\n",
    "from sklearn.metrics import mean_squared_error\n",
    "\n",
    "from statsmodels.tsa.arima_model import ARIMA\n",
    "\n",
    "pd.set_option(\"display.max_columns\", 101)"
   ]
  },
  {
   "cell_type": "code",
   "execution_count": 3,
   "metadata": {},
   "outputs": [
    {
     "data": {
      "text/html": [
       "<div>\n",
       "<style scoped>\n",
       "    .dataframe tbody tr th:only-of-type {\n",
       "        vertical-align: middle;\n",
       "    }\n",
       "\n",
       "    .dataframe tbody tr th {\n",
       "        vertical-align: top;\n",
       "    }\n",
       "\n",
       "    .dataframe thead th {\n",
       "        text-align: right;\n",
       "    }\n",
       "</style>\n",
       "<table border=\"1\" class=\"dataframe\">\n",
       "  <thead>\n",
       "    <tr style=\"text-align: right;\">\n",
       "      <th></th>\n",
       "      <th>store_id</th>\n",
       "      <th>day_number</th>\n",
       "      <th>units_sold</th>\n",
       "      <th>sell_price</th>\n",
       "      <th>snap</th>\n",
       "      <th>units_lag_28</th>\n",
       "      <th>units_rolling_7</th>\n",
       "      <th>units_rolling_28</th>\n",
       "      <th>units_rolling_49</th>\n",
       "      <th>sell_price_diff</th>\n",
       "      <th>dept_id_FOODS_1</th>\n",
       "      <th>dept_id_FOODS_2</th>\n",
       "      <th>dept_id_FOODS_3</th>\n",
       "      <th>dept_id_HOBBIES_1</th>\n",
       "      <th>dept_id_HOBBIES_2</th>\n",
       "      <th>dept_id_HOUSEHOLD_1</th>\n",
       "      <th>dept_id_HOUSEHOLD_2</th>\n",
       "      <th>store_id_CA_1</th>\n",
       "      <th>store_id_CA_2</th>\n",
       "      <th>store_id_CA_3</th>\n",
       "      <th>store_id_CA_4</th>\n",
       "      <th>store_id_TX_1</th>\n",
       "      <th>store_id_TX_2</th>\n",
       "      <th>store_id_TX_3</th>\n",
       "      <th>store_id_WI_1</th>\n",
       "      <th>store_id_WI_2</th>\n",
       "      <th>store_id_WI_3</th>\n",
       "      <th>weekday_Friday</th>\n",
       "      <th>weekday_Monday</th>\n",
       "      <th>weekday_Saturday</th>\n",
       "      <th>weekday_Sunday</th>\n",
       "      <th>weekday_Thursday</th>\n",
       "      <th>weekday_Tuesday</th>\n",
       "      <th>weekday_Wednesday</th>\n",
       "      <th>month_1</th>\n",
       "      <th>month_2</th>\n",
       "      <th>month_3</th>\n",
       "      <th>month_4</th>\n",
       "      <th>month_5</th>\n",
       "      <th>month_6</th>\n",
       "      <th>month_7</th>\n",
       "      <th>month_8</th>\n",
       "      <th>month_9</th>\n",
       "      <th>month_10</th>\n",
       "      <th>month_11</th>\n",
       "      <th>month_12</th>\n",
       "      <th>event_type_1_Cultural</th>\n",
       "      <th>event_type_1_National</th>\n",
       "      <th>event_type_1_Religious</th>\n",
       "      <th>event_type_1_Sporting</th>\n",
       "      <th>event_type_2_Cultural</th>\n",
       "      <th>event_type_2_Religious</th>\n",
       "    </tr>\n",
       "  </thead>\n",
       "  <tbody>\n",
       "    <tr>\n",
       "      <th>19405</th>\n",
       "      <td>TX_2</td>\n",
       "      <td>1941</td>\n",
       "      <td>NaN</td>\n",
       "      <td>8.257812</td>\n",
       "      <td>0</td>\n",
       "      <td>0.0</td>\n",
       "      <td>0.142822</td>\n",
       "      <td>0.285645</td>\n",
       "      <td>0.306152</td>\n",
       "      <td>0.0</td>\n",
       "      <td>0</td>\n",
       "      <td>0</td>\n",
       "      <td>0</td>\n",
       "      <td>1</td>\n",
       "      <td>0</td>\n",
       "      <td>0</td>\n",
       "      <td>0</td>\n",
       "      <td>0</td>\n",
       "      <td>0</td>\n",
       "      <td>0</td>\n",
       "      <td>0</td>\n",
       "      <td>0</td>\n",
       "      <td>1</td>\n",
       "      <td>0</td>\n",
       "      <td>0</td>\n",
       "      <td>0</td>\n",
       "      <td>0</td>\n",
       "      <td>0</td>\n",
       "      <td>0</td>\n",
       "      <td>0</td>\n",
       "      <td>1</td>\n",
       "      <td>0</td>\n",
       "      <td>0</td>\n",
       "      <td>0</td>\n",
       "      <td>0</td>\n",
       "      <td>0</td>\n",
       "      <td>0</td>\n",
       "      <td>0</td>\n",
       "      <td>1</td>\n",
       "      <td>0</td>\n",
       "      <td>0</td>\n",
       "      <td>0</td>\n",
       "      <td>0</td>\n",
       "      <td>0</td>\n",
       "      <td>0</td>\n",
       "      <td>0</td>\n",
       "      <td>0</td>\n",
       "      <td>0</td>\n",
       "      <td>0</td>\n",
       "      <td>0</td>\n",
       "      <td>0</td>\n",
       "      <td>0</td>\n",
       "    </tr>\n",
       "    <tr>\n",
       "      <th>19406</th>\n",
       "      <td>TX_3</td>\n",
       "      <td>1941</td>\n",
       "      <td>NaN</td>\n",
       "      <td>8.257812</td>\n",
       "      <td>0</td>\n",
       "      <td>0.0</td>\n",
       "      <td>0.000000</td>\n",
       "      <td>0.321533</td>\n",
       "      <td>0.408203</td>\n",
       "      <td>0.0</td>\n",
       "      <td>0</td>\n",
       "      <td>0</td>\n",
       "      <td>0</td>\n",
       "      <td>1</td>\n",
       "      <td>0</td>\n",
       "      <td>0</td>\n",
       "      <td>0</td>\n",
       "      <td>0</td>\n",
       "      <td>0</td>\n",
       "      <td>0</td>\n",
       "      <td>0</td>\n",
       "      <td>0</td>\n",
       "      <td>0</td>\n",
       "      <td>1</td>\n",
       "      <td>0</td>\n",
       "      <td>0</td>\n",
       "      <td>0</td>\n",
       "      <td>0</td>\n",
       "      <td>0</td>\n",
       "      <td>0</td>\n",
       "      <td>1</td>\n",
       "      <td>0</td>\n",
       "      <td>0</td>\n",
       "      <td>0</td>\n",
       "      <td>0</td>\n",
       "      <td>0</td>\n",
       "      <td>0</td>\n",
       "      <td>0</td>\n",
       "      <td>1</td>\n",
       "      <td>0</td>\n",
       "      <td>0</td>\n",
       "      <td>0</td>\n",
       "      <td>0</td>\n",
       "      <td>0</td>\n",
       "      <td>0</td>\n",
       "      <td>0</td>\n",
       "      <td>0</td>\n",
       "      <td>0</td>\n",
       "      <td>0</td>\n",
       "      <td>0</td>\n",
       "      <td>0</td>\n",
       "      <td>0</td>\n",
       "    </tr>\n",
       "    <tr>\n",
       "      <th>19407</th>\n",
       "      <td>WI_1</td>\n",
       "      <td>1941</td>\n",
       "      <td>NaN</td>\n",
       "      <td>8.382812</td>\n",
       "      <td>0</td>\n",
       "      <td>1.0</td>\n",
       "      <td>0.714355</td>\n",
       "      <td>0.392822</td>\n",
       "      <td>0.408203</td>\n",
       "      <td>0.0</td>\n",
       "      <td>0</td>\n",
       "      <td>0</td>\n",
       "      <td>0</td>\n",
       "      <td>1</td>\n",
       "      <td>0</td>\n",
       "      <td>0</td>\n",
       "      <td>0</td>\n",
       "      <td>0</td>\n",
       "      <td>0</td>\n",
       "      <td>0</td>\n",
       "      <td>0</td>\n",
       "      <td>0</td>\n",
       "      <td>0</td>\n",
       "      <td>0</td>\n",
       "      <td>1</td>\n",
       "      <td>0</td>\n",
       "      <td>0</td>\n",
       "      <td>0</td>\n",
       "      <td>0</td>\n",
       "      <td>0</td>\n",
       "      <td>1</td>\n",
       "      <td>0</td>\n",
       "      <td>0</td>\n",
       "      <td>0</td>\n",
       "      <td>0</td>\n",
       "      <td>0</td>\n",
       "      <td>0</td>\n",
       "      <td>0</td>\n",
       "      <td>1</td>\n",
       "      <td>0</td>\n",
       "      <td>0</td>\n",
       "      <td>0</td>\n",
       "      <td>0</td>\n",
       "      <td>0</td>\n",
       "      <td>0</td>\n",
       "      <td>0</td>\n",
       "      <td>0</td>\n",
       "      <td>0</td>\n",
       "      <td>0</td>\n",
       "      <td>0</td>\n",
       "      <td>0</td>\n",
       "      <td>0</td>\n",
       "    </tr>\n",
       "    <tr>\n",
       "      <th>19408</th>\n",
       "      <td>WI_2</td>\n",
       "      <td>1941</td>\n",
       "      <td>NaN</td>\n",
       "      <td>8.382812</td>\n",
       "      <td>0</td>\n",
       "      <td>1.0</td>\n",
       "      <td>0.142822</td>\n",
       "      <td>0.250000</td>\n",
       "      <td>0.163208</td>\n",
       "      <td>0.0</td>\n",
       "      <td>0</td>\n",
       "      <td>0</td>\n",
       "      <td>0</td>\n",
       "      <td>1</td>\n",
       "      <td>0</td>\n",
       "      <td>0</td>\n",
       "      <td>0</td>\n",
       "      <td>0</td>\n",
       "      <td>0</td>\n",
       "      <td>0</td>\n",
       "      <td>0</td>\n",
       "      <td>0</td>\n",
       "      <td>0</td>\n",
       "      <td>0</td>\n",
       "      <td>0</td>\n",
       "      <td>1</td>\n",
       "      <td>0</td>\n",
       "      <td>0</td>\n",
       "      <td>0</td>\n",
       "      <td>0</td>\n",
       "      <td>1</td>\n",
       "      <td>0</td>\n",
       "      <td>0</td>\n",
       "      <td>0</td>\n",
       "      <td>0</td>\n",
       "      <td>0</td>\n",
       "      <td>0</td>\n",
       "      <td>0</td>\n",
       "      <td>1</td>\n",
       "      <td>0</td>\n",
       "      <td>0</td>\n",
       "      <td>0</td>\n",
       "      <td>0</td>\n",
       "      <td>0</td>\n",
       "      <td>0</td>\n",
       "      <td>0</td>\n",
       "      <td>0</td>\n",
       "      <td>0</td>\n",
       "      <td>0</td>\n",
       "      <td>0</td>\n",
       "      <td>0</td>\n",
       "      <td>0</td>\n",
       "    </tr>\n",
       "    <tr>\n",
       "      <th>19409</th>\n",
       "      <td>WI_3</td>\n",
       "      <td>1941</td>\n",
       "      <td>NaN</td>\n",
       "      <td>8.382812</td>\n",
       "      <td>0</td>\n",
       "      <td>0.0</td>\n",
       "      <td>0.000000</td>\n",
       "      <td>0.107117</td>\n",
       "      <td>0.163208</td>\n",
       "      <td>0.0</td>\n",
       "      <td>0</td>\n",
       "      <td>0</td>\n",
       "      <td>0</td>\n",
       "      <td>1</td>\n",
       "      <td>0</td>\n",
       "      <td>0</td>\n",
       "      <td>0</td>\n",
       "      <td>0</td>\n",
       "      <td>0</td>\n",
       "      <td>0</td>\n",
       "      <td>0</td>\n",
       "      <td>0</td>\n",
       "      <td>0</td>\n",
       "      <td>0</td>\n",
       "      <td>0</td>\n",
       "      <td>0</td>\n",
       "      <td>1</td>\n",
       "      <td>0</td>\n",
       "      <td>0</td>\n",
       "      <td>0</td>\n",
       "      <td>1</td>\n",
       "      <td>0</td>\n",
       "      <td>0</td>\n",
       "      <td>0</td>\n",
       "      <td>0</td>\n",
       "      <td>0</td>\n",
       "      <td>0</td>\n",
       "      <td>0</td>\n",
       "      <td>1</td>\n",
       "      <td>0</td>\n",
       "      <td>0</td>\n",
       "      <td>0</td>\n",
       "      <td>0</td>\n",
       "      <td>0</td>\n",
       "      <td>0</td>\n",
       "      <td>0</td>\n",
       "      <td>0</td>\n",
       "      <td>0</td>\n",
       "      <td>0</td>\n",
       "      <td>0</td>\n",
       "      <td>0</td>\n",
       "      <td>0</td>\n",
       "    </tr>\n",
       "  </tbody>\n",
       "</table>\n",
       "</div>"
      ],
      "text/plain": [
       "      store_id day_number  units_sold  sell_price  snap  units_lag_28  \\\n",
       "19405     TX_2       1941         NaN    8.257812     0           0.0   \n",
       "19406     TX_3       1941         NaN    8.257812     0           0.0   \n",
       "19407     WI_1       1941         NaN    8.382812     0           1.0   \n",
       "19408     WI_2       1941         NaN    8.382812     0           1.0   \n",
       "19409     WI_3       1941         NaN    8.382812     0           0.0   \n",
       "\n",
       "       units_rolling_7  units_rolling_28  units_rolling_49  sell_price_diff  \\\n",
       "19405         0.142822          0.285645          0.306152              0.0   \n",
       "19406         0.000000          0.321533          0.408203              0.0   \n",
       "19407         0.714355          0.392822          0.408203              0.0   \n",
       "19408         0.142822          0.250000          0.163208              0.0   \n",
       "19409         0.000000          0.107117          0.163208              0.0   \n",
       "\n",
       "       dept_id_FOODS_1  dept_id_FOODS_2  dept_id_FOODS_3  dept_id_HOBBIES_1  \\\n",
       "19405                0                0                0                  1   \n",
       "19406                0                0                0                  1   \n",
       "19407                0                0                0                  1   \n",
       "19408                0                0                0                  1   \n",
       "19409                0                0                0                  1   \n",
       "\n",
       "       dept_id_HOBBIES_2  dept_id_HOUSEHOLD_1  dept_id_HOUSEHOLD_2  \\\n",
       "19405                  0                    0                    0   \n",
       "19406                  0                    0                    0   \n",
       "19407                  0                    0                    0   \n",
       "19408                  0                    0                    0   \n",
       "19409                  0                    0                    0   \n",
       "\n",
       "       store_id_CA_1  store_id_CA_2  store_id_CA_3  store_id_CA_4  \\\n",
       "19405              0              0              0              0   \n",
       "19406              0              0              0              0   \n",
       "19407              0              0              0              0   \n",
       "19408              0              0              0              0   \n",
       "19409              0              0              0              0   \n",
       "\n",
       "       store_id_TX_1  store_id_TX_2  store_id_TX_3  store_id_WI_1  \\\n",
       "19405              0              1              0              0   \n",
       "19406              0              0              1              0   \n",
       "19407              0              0              0              1   \n",
       "19408              0              0              0              0   \n",
       "19409              0              0              0              0   \n",
       "\n",
       "       store_id_WI_2  store_id_WI_3  weekday_Friday  weekday_Monday  \\\n",
       "19405              0              0               0               0   \n",
       "19406              0              0               0               0   \n",
       "19407              0              0               0               0   \n",
       "19408              1              0               0               0   \n",
       "19409              0              1               0               0   \n",
       "\n",
       "       weekday_Saturday  weekday_Sunday  weekday_Thursday  weekday_Tuesday  \\\n",
       "19405                 0               1                 0                0   \n",
       "19406                 0               1                 0                0   \n",
       "19407                 0               1                 0                0   \n",
       "19408                 0               1                 0                0   \n",
       "19409                 0               1                 0                0   \n",
       "\n",
       "       weekday_Wednesday  month_1  month_2  month_3  month_4  month_5  \\\n",
       "19405                  0        0        0        0        0        1   \n",
       "19406                  0        0        0        0        0        1   \n",
       "19407                  0        0        0        0        0        1   \n",
       "19408                  0        0        0        0        0        1   \n",
       "19409                  0        0        0        0        0        1   \n",
       "\n",
       "       month_6  month_7  month_8  month_9  month_10  month_11  month_12  \\\n",
       "19405        0        0        0        0         0         0         0   \n",
       "19406        0        0        0        0         0         0         0   \n",
       "19407        0        0        0        0         0         0         0   \n",
       "19408        0        0        0        0         0         0         0   \n",
       "19409        0        0        0        0         0         0         0   \n",
       "\n",
       "       event_type_1_Cultural  event_type_1_National  event_type_1_Religious  \\\n",
       "19405                      0                      0                       0   \n",
       "19406                      0                      0                       0   \n",
       "19407                      0                      0                       0   \n",
       "19408                      0                      0                       0   \n",
       "19409                      0                      0                       0   \n",
       "\n",
       "       event_type_1_Sporting  event_type_2_Cultural  event_type_2_Religious  \n",
       "19405                      0                      0                       0  \n",
       "19406                      0                      0                       0  \n",
       "19407                      0                      0                       0  \n",
       "19408                      0                      0                       0  \n",
       "19409                      0                      0                       0  "
      ]
     },
     "execution_count": 3,
     "metadata": {},
     "output_type": "execute_result"
    }
   ],
   "source": [
    "first_product = pd.read_pickle(\"./HOBBIES_1_001_feature.pkl\")\n",
    "first_product.tail()"
   ]
  },
  {
   "cell_type": "code",
   "execution_count": 19,
   "metadata": {},
   "outputs": [],
   "source": [
    "first_product_train = first_product[first_product.day_number.astype(int) <= 1885].reset_index(drop=True) # 1913-28\n",
    "first_product_validation = first_product[(first_product.day_number.astype(int) > 1885)\n",
    "                                         & (first_product.day_number.astype(int) < 1914)].reset_index(drop=True)\n",
    "first_product_test = first_product[first_product.day_number.astype(int) >= 1914].reset_index(drop=True)\n",
    "first_product_validation_y = first_product_validation.units_sold"
   ]
  },
  {
   "cell_type": "markdown",
   "metadata": {},
   "source": [
    "## Moving average\n"
   ]
  },
  {
   "cell_type": "code",
   "execution_count": 15,
   "metadata": {},
   "outputs": [
    {
     "data": {
      "text/plain": [
       "array([1., 1., 1., 1., 0., 0., 1., 0., 0., 0., 1., 1., 1., 1., 0., 0., 1.,\n",
       "       0., 0., 0., 1., 1., 1., 1., 0., 0., 0., 0., 0., 0., 1., 1., 1., 1.,\n",
       "       0., 0., 1., 0., 0., 0., 1., 1., 1., 1., 0., 0., 1., 0., 0., 0., 1.,\n",
       "       1., 1., 1., 0., 0., 1., 0., 0., 0., 1., 1., 1., 1., 0., 0., 1., 0.,\n",
       "       0., 0., 1., 1., 1., 1., 0., 0., 0., 0., 0., 0., 1., 1., 1., 1., 0.,\n",
       "       0., 1., 0., 0., 0., 1., 1., 1., 1., 0., 0., 1., 0., 0., 0., 1., 1.,\n",
       "       1., 1., 0., 0., 1., 0., 0., 0., 1., 1., 1., 1., 0., 0., 1., 0., 0.,\n",
       "       0., 1., 1., 1., 1., 0., 0., 1., 0., 0., 0., 1., 1., 1., 1., 0., 0.,\n",
       "       1., 0., 0., 0., 1., 1., 1., 1., 0., 0., 1., 0., 0., 0., 1., 1., 1.,\n",
       "       1., 0., 0., 1., 0., 0., 0., 1., 1., 1., 1., 0., 0., 1., 0., 0., 0.,\n",
       "       1., 1., 1., 1., 0., 0., 1., 0., 0., 0., 1., 1., 1., 1., 0., 0., 1.,\n",
       "       0., 0., 0., 1., 1., 1., 1., 0., 0., 0., 0., 0., 0., 1., 1., 1., 1.,\n",
       "       0., 0., 0., 0., 0., 0., 1., 1., 1., 1., 0., 0., 0., 0., 0., 0., 1.,\n",
       "       1., 1., 1., 0., 0., 0., 0., 0., 0., 1., 1., 1., 1., 0., 0., 0., 0.,\n",
       "       0., 0., 1., 1., 1., 1., 0., 0., 0., 0., 0., 0., 1., 1., 1., 1., 0.,\n",
       "       0., 0., 0., 0., 0., 1., 1., 1., 1., 0., 0., 0., 1., 0., 0., 1., 1.,\n",
       "       1., 1., 0., 0., 1., 1., 0., 0.], dtype=float16)"
      ]
     },
     "execution_count": 15,
     "metadata": {},
     "output_type": "execute_result"
    }
   ],
   "source": [
    "# Assigning weights to moving averrage columns\n",
    "weighted_moving_average = (0.55*first_product_validation['units_rolling_49']) + \\\n",
    "                          (0.3*first_product_validation['units_rolling_28']) + \\\n",
    "                          (0.15*first_product_validation['units_rolling_7'])\n",
    "moving_average_preds = np.round(weighted_moving_average.values)\n",
    "moving_average_preds"
   ]
  },
  {
   "cell_type": "code",
   "execution_count": 16,
   "metadata": {},
   "outputs": [
    {
     "data": {
      "text/plain": [
       "0.847"
      ]
     },
     "execution_count": 16,
     "metadata": {},
     "output_type": "execute_result"
    }
   ],
   "source": [
    "np.sqrt(mean_squared_error(first_product_validation_y.values, moving_average_preds))"
   ]
  },
  {
   "cell_type": "code",
   "execution_count": null,
   "metadata": {},
   "outputs": [],
   "source": []
  },
  {
   "cell_type": "code",
   "execution_count": null,
   "metadata": {},
   "outputs": [],
   "source": []
  },
  {
   "cell_type": "code",
   "execution_count": null,
   "metadata": {},
   "outputs": [],
   "source": []
  },
  {
   "cell_type": "code",
   "execution_count": null,
   "metadata": {},
   "outputs": [],
   "source": [
    "# Exponential smoothing"
   ]
  },
  {
   "cell_type": "code",
   "execution_count": null,
   "metadata": {},
   "outputs": [],
   "source": []
  },
  {
   "cell_type": "markdown",
   "metadata": {},
   "source": [
    "## ARIMA (In Progress....)"
   ]
  },
  {
   "cell_type": "code",
   "execution_count": 31,
   "metadata": {},
   "outputs": [
    {
     "name": "stdout",
     "output_type": "stream",
     "text": [
      "Store: CA_1\n"
     ]
    },
    {
     "name": "stderr",
     "output_type": "stream",
     "text": [
      "/home/asif/anaconda3/lib/python3.7/site-packages/ipykernel_launcher.py:5: UserWarning: Boolean Series key will be reindexed to match DataFrame index.\n",
      "  \"\"\"\n"
     ]
    },
    {
     "name": "stdout",
     "output_type": "stream",
     "text": [
      "predicted=1.000000, expected=1.000000\n",
      "predicted=1.000000, expected=0.000000\n",
      "predicted=1.000000, expected=0.000000\n",
      "predicted=1.000000, expected=0.000000\n",
      "predicted=0.000000, expected=0.000000\n",
      "predicted=0.000000, expected=0.000000\n",
      "predicted=0.000000, expected=1.000000\n",
      "predicted=0.000000, expected=0.000000\n",
      "predicted=0.000000, expected=4.000000\n",
      "predicted=1.000000, expected=2.000000\n",
      "predicted=1.000000, expected=3.000000\n",
      "predicted=2.000000, expected=0.000000\n",
      "predicted=1.000000, expected=1.000000\n",
      "predicted=2.000000, expected=2.000000\n",
      "predicted=2.000000, expected=0.000000\n",
      "predicted=1.000000, expected=0.000000\n",
      "predicted=1.000000, expected=0.000000\n",
      "predicted=0.000000, expected=1.000000\n",
      "predicted=1.000000, expected=1.000000\n",
      "predicted=1.000000, expected=3.000000\n",
      "predicted=1.000000, expected=0.000000\n",
      "predicted=1.000000, expected=1.000000\n",
      "predicted=1.000000, expected=1.000000\n",
      "predicted=1.000000, expected=1.000000\n",
      "predicted=1.000000, expected=3.000000\n",
      "predicted=2.000000, expected=0.000000\n",
      "predicted=1.000000, expected=1.000000\n",
      "predicted=1.000000, expected=1.000000\n",
      "Test RMSE: 1.323\n"
     ]
    },
    {
     "data": {
      "image/png": "[encoded data removed]",
      "text/plain": [
       "<Figure size 432x288 with 1 Axes>"
      ]
     },
     "metadata": {
      "needs_background": "light"
     },
     "output_type": "display_data"
    },
    {
     "name": "stdout",
     "output_type": "stream",
     "text": [
      "Store: CA_2\n"
     ]
    },
    {
     "name": "stderr",
     "output_type": "stream",
     "text": [
      "/home/asif/anaconda3/lib/python3.7/site-packages/ipykernel_launcher.py:5: UserWarning: Boolean Series key will be reindexed to match DataFrame index.\n",
      "  \"\"\"\n"
     ]
    },
    {
     "name": "stdout",
     "output_type": "stream",
     "text": [
      "predicted=1.000000, expected=0.000000\n",
      "predicted=1.000000, expected=3.000000\n",
      "predicted=1.000000, expected=1.000000\n",
      "predicted=1.000000, expected=0.000000\n",
      "predicted=1.000000, expected=1.000000\n",
      "predicted=1.000000, expected=1.000000\n",
      "predicted=1.000000, expected=0.000000\n",
      "predicted=1.000000, expected=2.000000\n",
      "predicted=1.000000, expected=0.000000\n",
      "predicted=1.000000, expected=0.000000\n",
      "predicted=1.000000, expected=0.000000\n",
      "predicted=0.000000, expected=0.000000\n",
      "predicted=0.000000, expected=0.000000\n",
      "predicted=0.000000, expected=1.000000\n",
      "predicted=0.000000, expected=0.000000\n",
      "predicted=0.000000, expected=0.000000\n",
      "predicted=0.000000, expected=1.000000\n",
      "predicted=0.000000, expected=0.000000\n",
      "predicted=0.000000, expected=0.000000\n",
      "predicted=0.000000, expected=0.000000\n",
      "predicted=0.000000, expected=1.000000\n",
      "predicted=0.000000, expected=2.000000\n",
      "predicted=1.000000, expected=0.000000\n",
      "predicted=0.000000, expected=4.000000\n",
      "predicted=1.000000, expected=0.000000\n",
      "predicted=1.000000, expected=0.000000\n",
      "predicted=1.000000, expected=2.000000\n",
      "predicted=1.000000, expected=2.000000\n",
      "Test RMSE: 1.180\n"
     ]
    },
    {
     "data": {
      "image/png": "[encoded data removed]",
      "text/plain": [
       "<Figure size 432x288 with 1 Axes>"
      ]
     },
     "metadata": {
      "needs_background": "light"
     },
     "output_type": "display_data"
    },
    {
     "name": "stdout",
     "output_type": "stream",
     "text": [
      "Store: CA_3\n"
     ]
    },
    {
     "name": "stderr",
     "output_type": "stream",
     "text": [
      "/home/asif/anaconda3/lib/python3.7/site-packages/ipykernel_launcher.py:5: UserWarning: Boolean Series key will be reindexed to match DataFrame index.\n",
      "  \"\"\"\n"
     ]
    },
    {
     "name": "stdout",
     "output_type": "stream",
     "text": [
      "predicted=2.000000, expected=2.000000\n",
      "predicted=2.000000, expected=1.000000\n",
      "predicted=1.000000, expected=0.000000\n",
      "predicted=1.000000, expected=0.000000\n",
      "predicted=1.000000, expected=0.000000\n",
      "predicted=1.000000, expected=4.000000\n",
      "predicted=1.000000, expected=2.000000\n",
      "predicted=1.000000, expected=1.000000\n",
      "predicted=1.000000, expected=0.000000\n",
      "predicted=1.000000, expected=2.000000\n",
      "predicted=2.000000, expected=0.000000\n",
      "predicted=1.000000, expected=0.000000\n",
      "predicted=1.000000, expected=2.000000\n",
      "predicted=1.000000, expected=1.000000\n",
      "predicted=1.000000, expected=0.000000\n",
      "predicted=1.000000, expected=0.000000\n",
      "predicted=0.000000, expected=0.000000\n",
      "predicted=1.000000, expected=0.000000\n",
      "predicted=0.000000, expected=0.000000\n",
      "predicted=0.000000, expected=2.000000\n",
      "predicted=0.000000, expected=4.000000\n",
      "predicted=1.000000, expected=0.000000\n",
      "predicted=1.000000, expected=1.000000\n",
      "predicted=1.000000, expected=1.000000\n",
      "predicted=1.000000, expected=1.000000\n",
      "predicted=2.000000, expected=0.000000\n",
      "predicted=1.000000, expected=3.000000\n",
      "predicted=1.000000, expected=3.000000\n",
      "Test RMSE: 1.439\n"
     ]
    },
    {
     "data": {
      "image/png": "[encoded data removed]",
      "text/plain": [
       "<Figure size 432x288 with 1 Axes>"
      ]
     },
     "metadata": {
      "needs_background": "light"
     },
     "output_type": "display_data"
    },
    {
     "name": "stdout",
     "output_type": "stream",
     "text": [
      "Store: CA_4\n"
     ]
    },
    {
     "name": "stderr",
     "output_type": "stream",
     "text": [
      "/home/asif/anaconda3/lib/python3.7/site-packages/ipykernel_launcher.py:5: UserWarning: Boolean Series key will be reindexed to match DataFrame index.\n",
      "  \"\"\"\n"
     ]
    },
    {
     "name": "stdout",
     "output_type": "stream",
     "text": [
      "predicted=1.000000, expected=2.000000\n",
      "predicted=1.000000, expected=1.000000\n",
      "predicted=1.000000, expected=2.000000\n",
      "predicted=1.000000, expected=1.000000\n",
      "predicted=1.000000, expected=1.000000\n",
      "predicted=1.000000, expected=1.000000\n",
      "predicted=1.000000, expected=1.000000\n",
      "predicted=1.000000, expected=0.000000\n",
      "predicted=1.000000, expected=0.000000\n",
      "predicted=1.000000, expected=0.000000\n",
      "predicted=0.000000, expected=0.000000\n",
      "predicted=0.000000, expected=0.000000\n",
      "predicted=0.000000, expected=0.000000\n",
      "predicted=-0.000000, expected=0.000000\n",
      "predicted=-0.000000, expected=3.000000\n",
      "predicted=1.000000, expected=0.000000\n",
      "predicted=1.000000, expected=0.000000\n",
      "predicted=1.000000, expected=0.000000\n",
      "predicted=0.000000, expected=1.000000\n",
      "predicted=1.000000, expected=0.000000\n",
      "predicted=1.000000, expected=0.000000\n",
      "predicted=0.000000, expected=1.000000\n",
      "predicted=0.000000, expected=0.000000\n",
      "predicted=0.000000, expected=1.000000\n",
      "predicted=1.000000, expected=0.000000\n",
      "predicted=0.000000, expected=1.000000\n",
      "predicted=1.000000, expected=2.000000\n",
      "predicted=1.000000, expected=1.000000\n",
      "Test RMSE: 0.945\n"
     ]
    },
    {
     "data": {
      "image/png": "[encoded data removed]",
      "text/plain": [
       "<Figure size 432x288 with 1 Axes>"
      ]
     },
     "metadata": {
      "needs_background": "light"
     },
     "output_type": "display_data"
    },
    {
     "name": "stdout",
     "output_type": "stream",
     "text": [
      "Store: TX_1\n"
     ]
    },
    {
     "name": "stderr",
     "output_type": "stream",
     "text": [
      "/home/asif/anaconda3/lib/python3.7/site-packages/ipykernel_launcher.py:5: UserWarning: Boolean Series key will be reindexed to match DataFrame index.\n",
      "  \"\"\"\n"
     ]
    },
    {
     "name": "stdout",
     "output_type": "stream",
     "text": [
      "predicted=0.000000, expected=1.000000\n",
      "predicted=1.000000, expected=0.000000\n",
      "predicted=0.000000, expected=1.000000\n",
      "predicted=0.000000, expected=0.000000\n",
      "predicted=0.000000, expected=0.000000\n",
      "predicted=0.000000, expected=0.000000\n",
      "predicted=0.000000, expected=0.000000\n",
      "predicted=0.000000, expected=1.000000\n",
      "predicted=0.000000, expected=0.000000\n",
      "predicted=0.000000, expected=1.000000\n",
      "predicted=0.000000, expected=0.000000\n",
      "predicted=0.000000, expected=0.000000\n",
      "predicted=0.000000, expected=0.000000\n",
      "predicted=0.000000, expected=0.000000\n",
      "predicted=0.000000, expected=0.000000\n",
      "predicted=0.000000, expected=0.000000\n",
      "predicted=-0.000000, expected=1.000000\n",
      "predicted=0.000000, expected=1.000000\n",
      "predicted=0.000000, expected=0.000000\n",
      "predicted=0.000000, expected=0.000000\n",
      "predicted=0.000000, expected=0.000000\n",
      "predicted=0.000000, expected=0.000000\n",
      "predicted=0.000000, expected=1.000000\n",
      "predicted=0.000000, expected=0.000000\n",
      "predicted=0.000000, expected=1.000000\n",
      "predicted=0.000000, expected=0.000000\n",
      "predicted=0.000000, expected=0.000000\n",
      "predicted=0.000000, expected=2.000000\n",
      "Test RMSE: 0.681\n"
     ]
    },
    {
     "data": {
      "image/png": "[encoded data removed]",
      "text/plain": [
       "<Figure size 432x288 with 1 Axes>"
      ]
     },
     "metadata": {
      "needs_background": "light"
     },
     "output_type": "display_data"
    },
    {
     "name": "stdout",
     "output_type": "stream",
     "text": [
      "Store: TX_2\n"
     ]
    },
    {
     "name": "stderr",
     "output_type": "stream",
     "text": [
      "/home/asif/anaconda3/lib/python3.7/site-packages/ipykernel_launcher.py:5: UserWarning: Boolean Series key will be reindexed to match DataFrame index.\n",
      "  \"\"\"\n"
     ]
    },
    {
     "name": "stdout",
     "output_type": "stream",
     "text": [
      "predicted=0.000000, expected=0.000000\n",
      "predicted=1.000000, expected=0.000000\n",
      "predicted=1.000000, expected=0.000000\n",
      "predicted=0.000000, expected=1.000000\n",
      "predicted=0.000000, expected=0.000000\n",
      "predicted=0.000000, expected=2.000000\n"
     ]
    },
    {
     "name": "stderr",
     "output_type": "stream",
     "text": [
      "/home/asif/anaconda3/lib/python3.7/site-packages/statsmodels/base/model.py:508: ConvergenceWarning: Maximum Likelihood optimization failed to converge. Check mle_retvals\n",
      "  \"Check mle_retvals\", ConvergenceWarning)\n"
     ]
    },
    {
     "name": "stdout",
     "output_type": "stream",
     "text": [
      "predicted=1.000000, expected=0.000000\n",
      "predicted=0.000000, expected=0.000000\n",
      "predicted=0.000000, expected=1.000000\n",
      "predicted=1.000000, expected=0.000000\n",
      "predicted=1.000000, expected=1.000000\n",
      "predicted=1.000000, expected=0.000000\n",
      "predicted=0.000000, expected=0.000000\n",
      "predicted=0.000000, expected=1.000000\n",
      "predicted=1.000000, expected=1.000000\n",
      "predicted=1.000000, expected=0.000000\n",
      "predicted=0.000000, expected=0.000000\n",
      "predicted=0.000000, expected=0.000000\n",
      "predicted=0.000000, expected=0.000000\n",
      "predicted=0.000000, expected=0.000000\n",
      "predicted=0.000000, expected=0.000000\n",
      "predicted=-0.000000, expected=0.000000\n",
      "predicted=-0.000000, expected=0.000000\n",
      "predicted=-0.000000, expected=1.000000\n",
      "predicted=0.000000, expected=0.000000\n",
      "predicted=0.000000, expected=0.000000\n",
      "predicted=0.000000, expected=0.000000\n",
      "predicted=0.000000, expected=0.000000\n",
      "Test RMSE: 0.707\n"
     ]
    },
    {
     "data": {
      "image/png": "[encoded data removed]",
      "text/plain": [
       "<Figure size 432x288 with 1 Axes>"
      ]
     },
     "metadata": {
      "needs_background": "light"
     },
     "output_type": "display_data"
    },
    {
     "name": "stdout",
     "output_type": "stream",
     "text": [
      "Store: TX_3\n"
     ]
    },
    {
     "name": "stderr",
     "output_type": "stream",
     "text": [
      "/home/asif/anaconda3/lib/python3.7/site-packages/ipykernel_launcher.py:5: UserWarning: Boolean Series key will be reindexed to match DataFrame index.\n",
      "  \"\"\"\n"
     ]
    },
    {
     "name": "stdout",
     "output_type": "stream",
     "text": [
      "predicted=1.000000, expected=0.000000\n",
      "predicted=1.000000, expected=1.000000\n",
      "predicted=1.000000, expected=0.000000\n",
      "predicted=0.000000, expected=0.000000\n",
      "predicted=0.000000, expected=1.000000\n",
      "predicted=1.000000, expected=0.000000\n",
      "predicted=0.000000, expected=0.000000\n",
      "predicted=0.000000, expected=1.000000\n",
      "predicted=0.000000, expected=0.000000\n",
      "predicted=0.000000, expected=0.000000\n",
      "predicted=0.000000, expected=1.000000\n",
      "predicted=0.000000, expected=0.000000\n",
      "predicted=0.000000, expected=1.000000\n",
      "predicted=1.000000, expected=0.000000\n",
      "predicted=0.000000, expected=0.000000\n",
      "predicted=0.000000, expected=1.000000\n",
      "predicted=1.000000, expected=0.000000\n",
      "predicted=0.000000, expected=0.000000\n",
      "predicted=0.000000, expected=0.000000\n",
      "predicted=0.000000, expected=3.000000\n",
      "predicted=1.000000, expected=0.000000\n",
      "predicted=0.000000, expected=0.000000\n",
      "predicted=1.000000, expected=0.000000\n",
      "predicted=0.000000, expected=0.000000\n",
      "predicted=1.000000, expected=0.000000\n",
      "predicted=1.000000, expected=0.000000\n",
      "predicted=-0.000000, expected=0.000000\n",
      "predicted=-0.000000, expected=0.000000\n",
      "Test RMSE: 0.906\n"
     ]
    },
    {
     "data": {
      "image/png": "[encoded data removed]",
      "text/plain": [
       "<Figure size 432x288 with 1 Axes>"
      ]
     },
     "metadata": {
      "needs_background": "light"
     },
     "output_type": "display_data"
    },
    {
     "name": "stdout",
     "output_type": "stream",
     "text": [
      "Store: WI_1\n"
     ]
    },
    {
     "name": "stderr",
     "output_type": "stream",
     "text": [
      "/home/asif/anaconda3/lib/python3.7/site-packages/ipykernel_launcher.py:5: UserWarning: Boolean Series key will be reindexed to match DataFrame index.\n",
      "  \"\"\"\n"
     ]
    },
    {
     "name": "stdout",
     "output_type": "stream",
     "text": [
      "predicted=1.000000, expected=0.000000\n",
      "predicted=1.000000, expected=1.000000\n",
      "predicted=1.000000, expected=2.000000\n",
      "predicted=1.000000, expected=0.000000\n",
      "predicted=1.000000, expected=0.000000\n",
      "predicted=0.000000, expected=0.000000\n",
      "predicted=0.000000, expected=1.000000\n",
      "predicted=1.000000, expected=0.000000\n",
      "predicted=1.000000, expected=0.000000\n",
      "predicted=0.000000, expected=1.000000\n",
      "predicted=0.000000, expected=0.000000\n",
      "predicted=0.000000, expected=0.000000\n",
      "predicted=0.000000, expected=1.000000\n",
      "predicted=0.000000, expected=0.000000\n",
      "predicted=0.000000, expected=0.000000\n",
      "predicted=0.000000, expected=0.000000\n",
      "predicted=0.000000, expected=0.000000\n",
      "predicted=0.000000, expected=0.000000\n",
      "predicted=0.000000, expected=0.000000\n",
      "predicted=-0.000000, expected=0.000000\n",
      "predicted=-0.000000, expected=0.000000\n",
      "predicted=-0.000000, expected=0.000000\n",
      "predicted=-0.000000, expected=0.000000\n",
      "predicted=-0.000000, expected=0.000000\n",
      "predicted=-0.000000, expected=1.000000\n",
      "predicted=0.000000, expected=2.000000\n",
      "predicted=1.000000, expected=1.000000\n",
      "predicted=1.000000, expected=1.000000\n",
      "Test RMSE: 0.707\n"
     ]
    },
    {
     "data": {
      "image/png": "[encoded data removed]",
      "text/plain": [
       "<Figure size 432x288 with 1 Axes>"
      ]
     },
     "metadata": {
      "needs_background": "light"
     },
     "output_type": "display_data"
    },
    {
     "name": "stdout",
     "output_type": "stream",
     "text": [
      "Store: WI_2\n"
     ]
    },
    {
     "name": "stderr",
     "output_type": "stream",
     "text": [
      "/home/asif/anaconda3/lib/python3.7/site-packages/ipykernel_launcher.py:5: UserWarning: Boolean Series key will be reindexed to match DataFrame index.\n",
      "  \"\"\"\n"
     ]
    },
    {
     "name": "stdout",
     "output_type": "stream",
     "text": [
      "predicted=0.000000, expected=0.000000\n",
      "predicted=0.000000, expected=1.000000\n",
      "predicted=0.000000, expected=0.000000\n",
      "predicted=0.000000, expected=0.000000\n",
      "predicted=0.000000, expected=0.000000\n",
      "predicted=0.000000, expected=0.000000\n",
      "predicted=0.000000, expected=0.000000\n",
      "predicted=0.000000, expected=0.000000\n",
      "predicted=-0.000000, expected=1.000000\n",
      "predicted=0.000000, expected=1.000000\n",
      "predicted=0.000000, expected=0.000000\n",
      "predicted=0.000000, expected=0.000000\n",
      "predicted=0.000000, expected=0.000000\n",
      "predicted=0.000000, expected=0.000000\n",
      "predicted=0.000000, expected=0.000000\n",
      "predicted=0.000000, expected=0.000000\n",
      "predicted=-0.000000, expected=1.000000\n",
      "predicted=0.000000, expected=0.000000\n",
      "predicted=0.000000, expected=1.000000\n",
      "predicted=0.000000, expected=1.000000\n",
      "predicted=1.000000, expected=0.000000\n",
      "predicted=0.000000, expected=0.000000\n",
      "predicted=0.000000, expected=0.000000\n",
      "predicted=0.000000, expected=0.000000\n",
      "predicted=0.000000, expected=0.000000\n",
      "predicted=0.000000, expected=0.000000\n",
      "predicted=-0.000000, expected=0.000000\n",
      "predicted=-0.000000, expected=1.000000\n",
      "Test RMSE: 0.535\n"
     ]
    },
    {
     "data": {
      "image/png": "[encoded data removed]",
      "text/plain": [
       "<Figure size 432x288 with 1 Axes>"
      ]
     },
     "metadata": {
      "needs_background": "light"
     },
     "output_type": "display_data"
    },
    {
     "name": "stdout",
     "output_type": "stream",
     "text": [
      "Store: WI_3\n",
      "predicted=0.000000, expected=0.000000\n"
     ]
    },
    {
     "name": "stderr",
     "output_type": "stream",
     "text": [
      "/home/asif/anaconda3/lib/python3.7/site-packages/ipykernel_launcher.py:5: UserWarning: Boolean Series key will be reindexed to match DataFrame index.\n",
      "  \"\"\"\n"
     ]
    },
    {
     "name": "stdout",
     "output_type": "stream",
     "text": [
      "predicted=0.000000, expected=1.000000\n",
      "predicted=0.000000, expected=0.000000\n",
      "predicted=0.000000, expected=0.000000\n",
      "predicted=0.000000, expected=0.000000\n",
      "predicted=0.000000, expected=0.000000\n",
      "predicted=0.000000, expected=1.000000\n",
      "predicted=0.000000, expected=0.000000\n",
      "predicted=0.000000, expected=0.000000\n",
      "predicted=0.000000, expected=0.000000\n",
      "predicted=0.000000, expected=0.000000\n",
      "predicted=0.000000, expected=0.000000\n",
      "predicted=0.000000, expected=0.000000\n",
      "predicted=-0.000000, expected=0.000000\n",
      "predicted=-0.000000, expected=0.000000\n",
      "predicted=-0.000000, expected=0.000000\n",
      "predicted=-0.000000, expected=0.000000\n",
      "predicted=-0.000000, expected=0.000000\n",
      "predicted=-0.000000, expected=0.000000\n",
      "predicted=-0.000000, expected=1.000000\n",
      "predicted=0.000000, expected=0.000000\n",
      "predicted=0.000000, expected=0.000000\n",
      "predicted=0.000000, expected=0.000000\n",
      "predicted=0.000000, expected=0.000000\n",
      "predicted=0.000000, expected=0.000000\n",
      "predicted=0.000000, expected=0.000000\n",
      "predicted=-0.000000, expected=0.000000\n",
      "predicted=-0.000000, expected=0.000000\n",
      "Test RMSE: 0.327\n"
     ]
    },
    {
     "data": {
      "image/png": "[encoded data removed]",
      "text/plain": [
       "<Figure size 432x288 with 1 Axes>"
      ]
     },
     "metadata": {
      "needs_background": "light"
     },
     "output_type": "display_data"
    }
   ],
   "source": [
    "# https://machinelearningmastery.com/arima-for-time-series-forecasting-with-python/\n",
    "\n",
    "unique_stores = first_product.store_id.unique()\n",
    "for s in unique_stores:\n",
    "    print('Store: '+ s)\n",
    "    arima_train = first_product_train[first_product_train.store_id == s].units_sold.values\n",
    "    arima_val = first_product_validation[first_product_train.store_id == s].units_sold.values\n",
    "    history = [x for x in arima_train]\n",
    "\n",
    "    arima_preds = list()\n",
    "    for t in range(len(arima_val)):\n",
    "        model = ARIMA(history, order=(5,1,0))\n",
    "        model_fit = model.fit(disp=0)\n",
    "        output = model_fit.forecast()\n",
    "        yhat = np.round(output[0])\n",
    "        arima_preds.append(yhat)\n",
    "        obs = arima_val[t]\n",
    "        history.append(obs)\n",
    "        print('predicted=%f, expected=%f' % (yhat, obs))\n",
    "    error = np.sqrt(mean_squared_error(arima_val, arima_preds))\n",
    "    print('Test RMSE: %.3f' % error)\n",
    "    # plot\n",
    "    plt.plot(arima_val)\n",
    "    plt.plot(arima_preds, color='red')\n",
    "    plt.show()"
   ]
  },
  {
   "cell_type": "code",
   "execution_count": null,
   "metadata": {},
   "outputs": [],
   "source": []
  },
  {
   "cell_type": "markdown",
   "metadata": {},
   "source": [
    "## Prophet"
   ]
  },
  {
   "cell_type": "code",
   "execution_count": null,
   "metadata": {},
   "outputs": [],
   "source": []
  }
 ],
 "metadata": {
  "kernelspec": {
   "display_name": "Python 3",
   "language": "python",
   "name": "python3"
  },
  "language_info": {
   "codemirror_mode": {
    "name": "ipython",
    "version": 3
   },
   "file_extension": ".py",
   "mimetype": "text/x-python",
   "name": "python",
   "nbconvert_exporter": "python",
   "pygments_lexer": "ipython3",
   "version": "3.7.3"
  }
 },
 "nbformat": 4,
 "nbformat_minor": 2
}
